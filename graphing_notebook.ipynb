{
 "cells": [
  {
   "cell_type": "code",
   "execution_count": 6,
   "id": "baa0a2ee",
   "metadata": {},
   "outputs": [
    {
     "data": {
      "text/html": [
       "Displaying chart at <a href='http://localhost:54125/' target='_blank'>http://localhost:54125/</a>"
      ],
      "text/plain": [
       "Displaying chart at http://localhost:54125/"
      ]
     },
     "execution_count": 6,
     "metadata": {},
     "output_type": "execute_result"
    }
   ],
   "source": [
    "'''\n",
    "Plot Movie Budget vs Expert Ratings\n",
    "'''\n",
    "import pandas as pd\n",
    "import altair as alt\n",
    "import altair_viewer as view\n",
    "\n",
    "alt.data_transformers.disable_max_rows()\n",
    "\n",
    "# Load the data from the CSV file\n",
    "data = pd.read_csv('data/master_dataset.csv')\n",
    "\n",
    "data = data.query('budget > 0')\n",
    "\n",
    "# Create the line chart\n",
    "chart = alt.Chart(data).mark_point().encode(\n",
    "    x='budget',\n",
    "    y='expert_rating',\n",
    "    tooltip=['budget', 'expert_rating']\n",
    ").properties(\n",
    "    title='Movie Budget vs Expert Ratings',\n",
    "    width=800,\n",
    "    height=400\n",
    ").interactive()\n",
    "\n",
    "# Display the chart\n",
    "view.display(chart)\n"
   ]
  },
  {
   "cell_type": "code",
   "execution_count": 5,
   "id": "ae585e6b",
   "metadata": {},
   "outputs": [
    {
     "data": {
      "text/html": [
       "Displaying chart at <a href='http://localhost:54125/' target='_blank'>http://localhost:54125/</a>"
      ],
      "text/plain": [
       "Displaying chart at http://localhost:54125/"
      ]
     },
     "execution_count": 5,
     "metadata": {},
     "output_type": "execute_result"
    }
   ],
   "source": [
    "'''\n",
    "Plot Movie Budget vs User Ratings\n",
    "'''\n",
    "\n",
    "import pandas as pd\n",
    "import altair as alt\n",
    "import altair_viewer as view\n",
    "\n",
    "alt.data_transformers.disable_max_rows()\n",
    "\n",
    "# Load the data from the CSV file\n",
    "data = pd.read_csv('data/master_dataset.csv')\n",
    "\n",
    "data = data.query('budget > 0')\n",
    "\n",
    "# Create the line chart\n",
    "chart = alt.Chart(data).mark_point().encode(\n",
    "    x='budget',\n",
    "    y='user_rating',\n",
    "    tooltip=['budget', 'user_rating']\n",
    ").properties(\n",
    "    title='Movie Budget vs User Ratings',\n",
    "    width=800,\n",
    "    height=400\n",
    ").interactive()\n",
    "\n",
    "# Display the chart\n",
    "view.display(chart)\n"
   ]
  },
  {
   "cell_type": "code",
   "execution_count": 4,
   "id": "7618d643",
   "metadata": {},
   "outputs": [
    {
     "name": "stdout",
     "output_type": "stream",
     "text": [
      "Displaying chart at http://localhost:54125/\n"
     ]
    }
   ],
   "source": [
    "''' \n",
    "Plot Revenue by Year\n",
    "'''\n",
    "\n",
    "import pandas as pd\n",
    "import altair as alt\n",
    "import altair_viewer as view\n",
    "\n",
    "alt.data_transformers.disable_max_rows()\n",
    "\n",
    "# load the data\n",
    "data = pd.read_csv(\"data/master_dataset.csv\")\n",
    "\n",
    "# create a bar chart showing revenue by year\n",
    "bar_chart = alt.Chart(data).mark_bar().encode(\n",
    "    x=alt.X('year(release_date):T', scale=alt.Scale(domain=(1930,2023))),\n",
    "    y='sum(revenue)',\n",
    "    tooltip=['year(release_date):T', 'sum(revenue)'],\n",
    ")\n",
    "\n",
    "# set chart properties\n",
    "bar_chart = bar_chart.properties(\n",
    "    width=800,\n",
    "    height=400,\n",
    "    title='Revenue by Year'\n",
    ")\n",
    "\n",
    "# display the chart\n",
    "bar_chart.show()\n"
   ]
  },
  {
   "cell_type": "code",
   "execution_count": 3,
   "id": "498082d9",
   "metadata": {},
   "outputs": [
    {
     "name": "stdout",
     "output_type": "stream",
     "text": [
      "Displaying chart at http://localhost:54125/\n"
     ]
    }
   ],
   "source": [
    "''' \n",
    "Plot User Rating vs Expert Rating\n",
    "'''\n",
    "\n",
    "import pandas as pd\n",
    "import altair as alt\n",
    "import altair_viewer as view\n",
    "\n",
    "alt.data_transformers.disable_max_rows()\n",
    "\n",
    "# load the data\n",
    "data = pd.read_csv(\"data/master_dataset.csv\")\n",
    "\n",
    "# create a scatter plot showing the relationship between user rating and expert rating\n",
    "scatter_plot = alt.Chart(data).mark_point().encode(\n",
    "    x='user_rating:Q',\n",
    "    y='expert_rating:Q',\n",
    "    tooltip=['original_title', 'user_rating', 'expert_rating']\n",
    ").properties(\n",
    "    width=800,\n",
    "    height=400,\n",
    "    title='User Rating vs Expert Rating'\n",
    ")\n",
    "\n",
    "# Display the chart\n",
    "scatter_plot.show()\n"
   ]
  }
 ],
 "metadata": {
  "kernelspec": {
   "display_name": "Python 3 (ipykernel)",
   "language": "python",
   "name": "python3"
  },
  "language_info": {
   "codemirror_mode": {
    "name": "ipython",
    "version": 3
   },
   "file_extension": ".py",
   "mimetype": "text/x-python",
   "name": "python",
   "nbconvert_exporter": "python",
   "pygments_lexer": "ipython3",
   "version": "3.9.13"
  },
  "vscode": {
   "interpreter": {
    "hash": "9f30e5a3c7471fce55ab719dd49d4c88738f388467dd072a853518c91d047f41"
   }
  }
 },
 "nbformat": 4,
 "nbformat_minor": 5
}
