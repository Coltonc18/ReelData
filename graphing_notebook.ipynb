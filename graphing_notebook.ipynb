{
 "cells": [
  {
   "cell_type": "code",
   "execution_count": null,
   "id": "b31ea92a",
   "metadata": {},
   "outputs": [],
   "source": [
    "import altair as alt\n",
    "# import altair_saver\n",
    "import altair_viewer as view\n",
    "from vega_datasets import data\n",
    "\n",
    "cars = data.cars()\n",
    "# make the chart\n",
    "chart = alt.Chart(cars).mark_point().encode( # type: ignore\n",
    "    x='Horsepower',\n",
    "    y='Miles_per_Gallon',\n",
    "    color='Origin',\n",
    ").interactive()\n",
    "view.display(chart, inline=True)"
   ]
  },
  {
   "cell_type": "code",
   "execution_count": 7,
   "id": "baa0a2ee",
   "metadata": {},
   "outputs": [
    {
     "data": {
      "text/html": [
       "Displaying chart at <a href='http://localhost:50371/' target='_blank'>http://localhost:50371/</a>"
      ],
      "text/plain": [
       "Displaying chart at http://localhost:50371/"
      ]
     },
     "execution_count": 7,
     "metadata": {},
     "output_type": "execute_result"
    }
   ],
   "source": [
    "import pandas as pd\n",
    "import altair as alt\n",
    "import altair_viewer as view\n",
    "\n",
    "alt.data_transformers.disable_max_rows()\n",
    "\n",
    "# Load the data from the CSV file\n",
    "data = pd.read_csv('data/master_dataset.csv')\n",
    "\n",
    "data = data.query('budget > 0')\n",
    "\n",
    "# Create the line chart\n",
    "chart = alt.Chart(data).mark_point().encode(\n",
    "    x='budget',\n",
    "    y='expert_rating',\n",
    "    tooltip=['budget', 'expert_rating']\n",
    ").properties(\n",
    "    title='Movie Budget vs Expert Ratings',\n",
    "    width=800,\n",
    "    height=400\n",
    ").interactive()\n",
    "\n",
    "# Display the chart\n",
    "view.display(chart)\n"
   ]
  },
  {
   "cell_type": "code",
   "execution_count": 6,
   "id": "ae585e6b",
   "metadata": {},
   "outputs": [
    {
     "data": {
      "text/html": [
       "Displaying chart at <a href='http://localhost:50371/' target='_blank'>http://localhost:50371/</a>"
      ],
      "text/plain": [
       "Displaying chart at http://localhost:50371/"
      ]
     },
     "execution_count": 6,
     "metadata": {},
     "output_type": "execute_result"
    }
   ],
   "source": [
    "import pandas as pd\n",
    "import altair as alt\n",
    "import altair_viewer as view\n",
    "\n",
    "alt.data_transformers.disable_max_rows()\n",
    "\n",
    "# Load the data from the CSV file\n",
    "data = pd.read_csv('data/master_dataset.csv')\n",
    "\n",
    "data = data.query('budget > 0')\n",
    "\n",
    "# Create the line chart\n",
    "chart = alt.Chart(data).mark_point().encode(\n",
    "    x='budget',\n",
    "    y='user_rating',\n",
    "    tooltip=['budget', 'user_rating']\n",
    ").properties(\n",
    "    title='Movie Budget vs User Ratings',\n",
    "    width=800,\n",
    "    height=400\n",
    ").interactive()\n",
    "\n",
    "# Display the chart\n",
    "view.display(chart)\n"
   ]
  },
  {
   "cell_type": "code",
   "execution_count": 28,
   "id": "7618d643",
   "metadata": {},
   "outputs": [
    {
     "name": "stdout",
     "output_type": "stream",
     "text": [
      "Displaying chart at http://localhost:64035/\n"
     ]
    }
   ],
   "source": [
    "import pandas as pd\n",
    "import altair as alt\n",
    "import altair_viewer as view\n",
    "\n",
    "alt.data_transformers.disable_max_rows()\n",
    "\n",
    "# load the data\n",
    "data = pd.read_csv(\"data/master_dataset.csv\")\n",
    "\n",
    "# create a bar chart showing revenue by year\n",
    "bar_chart = alt.Chart(data).mark_bar().encode(\n",
    "    x=alt.X('year(release_date):T', scale=alt.Scale(domain=(1930,2023))),\n",
    "    y='sum(revenue)',\n",
    "    tooltip=['year(release_date):T', 'sum(revenue)'],\n",
    ")\n",
    "\n",
    "# set chart properties\n",
    "bar_chart = bar_chart.properties(\n",
    "    width=800,\n",
    "    height=400,\n",
    "    title='Revenue by Year'\n",
    ")\n",
    "\n",
    "# display the chart\n",
    "bar_chart.show()\n"
   ]
  },
  {
   "cell_type": "code",
   "execution_count": 33,
   "id": "498082d9",
   "metadata": {},
   "outputs": [
    {
     "ename": "ValueError",
     "evalue": "rating encoding field is specified without a type; the type cannot be inferred because it does not match any column in the data.",
     "output_type": "error",
     "traceback": [
      "\u001b[1;31m---------------------------------------------------------------------------\u001b[0m",
      "\u001b[1;31mValueError\u001b[0m                                Traceback (most recent call last)",
      "\u001b[1;32mc:\\Users\\natha\\Documents\\Reel_Data\\ReelData\\graphing_notebook.ipynb Cell 4\u001b[0m in \u001b[0;36m2\n\u001b[0;32m     <a href='vscode-notebook-cell:/c%3A/Users/natha/Documents/Reel_Data/ReelData/graphing_notebook.ipynb#W3sZmlsZQ%3D%3D?line=12'>13</a>\u001b[0m scatter_plot \u001b[39m=\u001b[39m alt\u001b[39m.\u001b[39mChart(merged_data)\u001b[39m.\u001b[39mmark_point()\u001b[39m.\u001b[39mencode(\n\u001b[0;32m     <a href='vscode-notebook-cell:/c%3A/Users/natha/Documents/Reel_Data/ReelData/graphing_notebook.ipynb#W3sZmlsZQ%3D%3D?line=13'>14</a>\u001b[0m     x\u001b[39m=\u001b[39m\u001b[39m'\u001b[39m\u001b[39mrating\u001b[39m\u001b[39m'\u001b[39m,\n\u001b[0;32m     <a href='vscode-notebook-cell:/c%3A/Users/natha/Documents/Reel_Data/ReelData/graphing_notebook.ipynb#W3sZmlsZQ%3D%3D?line=14'>15</a>\u001b[0m     y\u001b[39m=\u001b[39m\u001b[39m'\u001b[39m\u001b[39mExpert Rating\u001b[39m\u001b[39m'\u001b[39m,\n\u001b[1;32m   (...)\u001b[0m\n\u001b[0;32m     <a href='vscode-notebook-cell:/c%3A/Users/natha/Documents/Reel_Data/ReelData/graphing_notebook.ipynb#W3sZmlsZQ%3D%3D?line=19'>20</a>\u001b[0m     title\u001b[39m=\u001b[39m\u001b[39m'\u001b[39m\u001b[39mUser Rating vs Expert Rating\u001b[39m\u001b[39m'\u001b[39m\n\u001b[0;32m     <a href='vscode-notebook-cell:/c%3A/Users/natha/Documents/Reel_Data/ReelData/graphing_notebook.ipynb#W3sZmlsZQ%3D%3D?line=20'>21</a>\u001b[0m )\n\u001b[0;32m     <a href='vscode-notebook-cell:/c%3A/Users/natha/Documents/Reel_Data/ReelData/graphing_notebook.ipynb#W3sZmlsZQ%3D%3D?line=22'>23</a>\u001b[0m \u001b[39m# Display the chart\u001b[39;00m\n\u001b[1;32m---> <a href='vscode-notebook-cell:/c%3A/Users/natha/Documents/Reel_Data/ReelData/graphing_notebook.ipynb#W3sZmlsZQ%3D%3D?line=23'>24</a>\u001b[0m scatter_plot\u001b[39m.\u001b[39mshow()\n",
      "File \u001b[1;32mc:\\Users\\natha\\anaconda3\\envs\\cse163\\lib\\site-packages\\altair\\vegalite\\v4\\api.py:1795\u001b[0m, in \u001b[0;36mTopLevelMixin.show\u001b[1;34m(self, embed_opt, open_browser)\u001b[0m\n\u001b[0;32m   1790\u001b[0m \u001b[39mexcept\u001b[39;00m \u001b[39mImportError\u001b[39;00m:\n\u001b[0;32m   1791\u001b[0m     \u001b[39mraise\u001b[39;00m \u001b[39mValueError\u001b[39;00m(\n\u001b[0;32m   1792\u001b[0m         \u001b[39m\"\u001b[39m\u001b[39mshow() method requires the altair_viewer package. \u001b[39m\u001b[39m\"\u001b[39m\n\u001b[0;32m   1793\u001b[0m         \u001b[39m\"\u001b[39m\u001b[39mSee http://github.com/altair-viz/altair_viewer\u001b[39m\u001b[39m\"\u001b[39m\n\u001b[0;32m   1794\u001b[0m     )\n\u001b[1;32m-> 1795\u001b[0m altair_viewer\u001b[39m.\u001b[39;49mshow(\u001b[39mself\u001b[39;49m, embed_opt\u001b[39m=\u001b[39;49membed_opt, open_browser\u001b[39m=\u001b[39;49mopen_browser)\n",
      "File \u001b[1;32mc:\\Users\\natha\\anaconda3\\envs\\cse163\\lib\\site-packages\\altair_viewer\\_viewer.py:355\u001b[0m, in \u001b[0;36mChartViewer.show\u001b[1;34m(self, chart, embed_opt, open_browser)\u001b[0m\n\u001b[0;32m    328\u001b[0m \u001b[39mdef\u001b[39;00m \u001b[39mshow\u001b[39m(\n\u001b[0;32m    329\u001b[0m     \u001b[39mself\u001b[39m,\n\u001b[0;32m    330\u001b[0m     chart: Union[\u001b[39mdict\u001b[39m, alt\u001b[39m.\u001b[39mTopLevelMixin],\n\u001b[0;32m    331\u001b[0m     embed_opt: Optional[\u001b[39mdict\u001b[39m] \u001b[39m=\u001b[39m \u001b[39mNone\u001b[39;00m,\n\u001b[0;32m    332\u001b[0m     open_browser: Optional[\u001b[39mbool\u001b[39m] \u001b[39m=\u001b[39m \u001b[39mNone\u001b[39;00m,\n\u001b[0;32m    333\u001b[0m ) \u001b[39m-\u001b[39m\u001b[39m>\u001b[39m \u001b[39mNone\u001b[39;00m:\n\u001b[0;32m    334\u001b[0m     \u001b[39m\"\"\"Show chart and prompt to pause execution.\u001b[39;00m\n\u001b[0;32m    335\u001b[0m \n\u001b[0;32m    336\u001b[0m \u001b[39m    Use this to show a chart within a stand-alone script, to prevent the Python process\u001b[39;00m\n\u001b[1;32m   (...)\u001b[0m\n\u001b[0;32m    353\u001b[0m \u001b[39m    render : Jupyter renderer for chart.\u001b[39;00m\n\u001b[0;32m    354\u001b[0m \u001b[39m    \"\"\"\u001b[39;00m\n\u001b[1;32m--> 355\u001b[0m     msg \u001b[39m=\u001b[39m \u001b[39mself\u001b[39;49m\u001b[39m.\u001b[39;49mdisplay(chart, embed_opt\u001b[39m=\u001b[39;49membed_opt, open_browser\u001b[39m=\u001b[39;49mopen_browser)\n\u001b[0;32m    356\u001b[0m     \u001b[39mprint\u001b[39m(msg)\n\u001b[0;32m    357\u001b[0m     \u001b[39mif\u001b[39;00m \u001b[39mself\u001b[39m\u001b[39m.\u001b[39m_provider \u001b[39mis\u001b[39;00m \u001b[39mnot\u001b[39;00m \u001b[39mNone\u001b[39;00m:\n",
      "File \u001b[1;32mc:\\Users\\natha\\anaconda3\\envs\\cse163\\lib\\site-packages\\altair_viewer\\_viewer.py:264\u001b[0m, in \u001b[0;36mChartViewer.display\u001b[1;34m(self, chart, inline, embed_opt, open_browser)\u001b[0m\n\u001b[0;32m    242\u001b[0m \u001b[39m\"\"\"Display an Altair, Vega-Lite, or Vega chart.\u001b[39;00m\n\u001b[0;32m    243\u001b[0m \n\u001b[0;32m    244\u001b[0m \u001b[39mParameters\u001b[39;00m\n\u001b[1;32m   (...)\u001b[0m\n\u001b[0;32m    261\u001b[0m \u001b[39mshow : display a chart and start event loop.\u001b[39;00m\n\u001b[0;32m    262\u001b[0m \u001b[39m\"\"\"\u001b[39;00m\n\u001b[0;32m    263\u001b[0m \u001b[39mif\u001b[39;00m \u001b[39misinstance\u001b[39m(chart, alt\u001b[39m.\u001b[39mTopLevelMixin):\n\u001b[1;32m--> 264\u001b[0m     chart \u001b[39m=\u001b[39m chart\u001b[39m.\u001b[39;49mto_dict()\n\u001b[0;32m    265\u001b[0m \u001b[39massert\u001b[39;00m \u001b[39misinstance\u001b[39m(chart, \u001b[39mdict\u001b[39m)\n\u001b[0;32m    266\u001b[0m \u001b[39mself\u001b[39m\u001b[39m.\u001b[39m_initialize()\n",
      "File \u001b[1;32mc:\\Users\\natha\\anaconda3\\envs\\cse163\\lib\\site-packages\\altair\\vegalite\\v4\\api.py:2020\u001b[0m, in \u001b[0;36mChart.to_dict\u001b[1;34m(self, *args, **kwargs)\u001b[0m\n\u001b[0;32m   2018\u001b[0m     copy\u001b[39m.\u001b[39mdata \u001b[39m=\u001b[39m core\u001b[39m.\u001b[39mInlineData(values\u001b[39m=\u001b[39m[{}])\n\u001b[0;32m   2019\u001b[0m     \u001b[39mreturn\u001b[39;00m \u001b[39msuper\u001b[39m(Chart, copy)\u001b[39m.\u001b[39mto_dict(\u001b[39m*\u001b[39margs, \u001b[39m*\u001b[39m\u001b[39m*\u001b[39mkwargs)\n\u001b[1;32m-> 2020\u001b[0m \u001b[39mreturn\u001b[39;00m \u001b[39msuper\u001b[39m()\u001b[39m.\u001b[39mto_dict(\u001b[39m*\u001b[39margs, \u001b[39m*\u001b[39m\u001b[39m*\u001b[39mkwargs)\n",
      "File \u001b[1;32mc:\\Users\\natha\\anaconda3\\envs\\cse163\\lib\\site-packages\\altair\\vegalite\\v4\\api.py:384\u001b[0m, in \u001b[0;36mTopLevelMixin.to_dict\u001b[1;34m(self, *args, **kwargs)\u001b[0m\n\u001b[0;32m    381\u001b[0m kwargs[\u001b[39m\"\u001b[39m\u001b[39mcontext\u001b[39m\u001b[39m\"\u001b[39m] \u001b[39m=\u001b[39m context\n\u001b[0;32m    383\u001b[0m \u001b[39mtry\u001b[39;00m:\n\u001b[1;32m--> 384\u001b[0m     dct \u001b[39m=\u001b[39m \u001b[39msuper\u001b[39m(TopLevelMixin, copy)\u001b[39m.\u001b[39mto_dict(\u001b[39m*\u001b[39margs, \u001b[39m*\u001b[39m\u001b[39m*\u001b[39mkwargs)\n\u001b[0;32m    385\u001b[0m \u001b[39mexcept\u001b[39;00m jsonschema\u001b[39m.\u001b[39mValidationError:\n\u001b[0;32m    386\u001b[0m     dct \u001b[39m=\u001b[39m \u001b[39mNone\u001b[39;00m\n",
      "File \u001b[1;32mc:\\Users\\natha\\anaconda3\\envs\\cse163\\lib\\site-packages\\altair\\utils\\schemapi.py:346\u001b[0m, in \u001b[0;36mSchemaBase.to_dict\u001b[1;34m(self, validate, ignore, context)\u001b[0m\n\u001b[0;32m    344\u001b[0m     result \u001b[39m=\u001b[39m _todict(\u001b[39mself\u001b[39m\u001b[39m.\u001b[39m_args[\u001b[39m0\u001b[39m], validate\u001b[39m=\u001b[39msub_validate, context\u001b[39m=\u001b[39mcontext)\n\u001b[0;32m    345\u001b[0m \u001b[39melif\u001b[39;00m \u001b[39mnot\u001b[39;00m \u001b[39mself\u001b[39m\u001b[39m.\u001b[39m_args:\n\u001b[1;32m--> 346\u001b[0m     result \u001b[39m=\u001b[39m _todict(\n\u001b[0;32m    347\u001b[0m         {k: v \u001b[39mfor\u001b[39;49;00m k, v \u001b[39min\u001b[39;49;00m \u001b[39mself\u001b[39;49m\u001b[39m.\u001b[39;49m_kwds\u001b[39m.\u001b[39;49mitems() \u001b[39mif\u001b[39;49;00m k \u001b[39mnot\u001b[39;49;00m \u001b[39min\u001b[39;49;00m ignore},\n\u001b[0;32m    348\u001b[0m         validate\u001b[39m=\u001b[39;49msub_validate,\n\u001b[0;32m    349\u001b[0m         context\u001b[39m=\u001b[39;49mcontext,\n\u001b[0;32m    350\u001b[0m     )\n\u001b[0;32m    351\u001b[0m \u001b[39melse\u001b[39;00m:\n\u001b[0;32m    352\u001b[0m     \u001b[39mraise\u001b[39;00m \u001b[39mValueError\u001b[39;00m(\n\u001b[0;32m    353\u001b[0m         \u001b[39m\"\u001b[39m\u001b[39m{}\u001b[39;00m\u001b[39m instance has both a value and properties : \u001b[39m\u001b[39m\"\u001b[39m\n\u001b[0;32m    354\u001b[0m         \u001b[39m\"\u001b[39m\u001b[39mcannot serialize to dict\u001b[39m\u001b[39m\"\u001b[39m\u001b[39m.\u001b[39mformat(\u001b[39mself\u001b[39m\u001b[39m.\u001b[39m\u001b[39m__class__\u001b[39m)\n\u001b[0;32m    355\u001b[0m     )\n",
      "File \u001b[1;32mc:\\Users\\natha\\anaconda3\\envs\\cse163\\lib\\site-packages\\altair\\utils\\schemapi.py:80\u001b[0m, in \u001b[0;36m_todict\u001b[1;34m(obj, validate, context)\u001b[0m\n\u001b[0;32m     78\u001b[0m     \u001b[39mreturn\u001b[39;00m [_todict(v, validate, context) \u001b[39mfor\u001b[39;00m v \u001b[39min\u001b[39;00m obj]\n\u001b[0;32m     79\u001b[0m \u001b[39melif\u001b[39;00m \u001b[39misinstance\u001b[39m(obj, \u001b[39mdict\u001b[39m):\n\u001b[1;32m---> 80\u001b[0m     \u001b[39mreturn\u001b[39;00m {\n\u001b[0;32m     81\u001b[0m         k: _todict(v, validate, context)\n\u001b[0;32m     82\u001b[0m         \u001b[39mfor\u001b[39;00m k, v \u001b[39min\u001b[39;00m obj\u001b[39m.\u001b[39mitems()\n\u001b[0;32m     83\u001b[0m         \u001b[39mif\u001b[39;00m v \u001b[39mis\u001b[39;00m \u001b[39mnot\u001b[39;00m Undefined\n\u001b[0;32m     84\u001b[0m     }\n\u001b[0;32m     85\u001b[0m \u001b[39melif\u001b[39;00m \u001b[39mhasattr\u001b[39m(obj, \u001b[39m\"\u001b[39m\u001b[39mto_dict\u001b[39m\u001b[39m\"\u001b[39m):\n\u001b[0;32m     86\u001b[0m     \u001b[39mreturn\u001b[39;00m obj\u001b[39m.\u001b[39mto_dict()\n",
      "File \u001b[1;32mc:\\Users\\natha\\anaconda3\\envs\\cse163\\lib\\site-packages\\altair\\utils\\schemapi.py:81\u001b[0m, in \u001b[0;36m<dictcomp>\u001b[1;34m(.0)\u001b[0m\n\u001b[0;32m     78\u001b[0m     \u001b[39mreturn\u001b[39;00m [_todict(v, validate, context) \u001b[39mfor\u001b[39;00m v \u001b[39min\u001b[39;00m obj]\n\u001b[0;32m     79\u001b[0m \u001b[39melif\u001b[39;00m \u001b[39misinstance\u001b[39m(obj, \u001b[39mdict\u001b[39m):\n\u001b[0;32m     80\u001b[0m     \u001b[39mreturn\u001b[39;00m {\n\u001b[1;32m---> 81\u001b[0m         k: _todict(v, validate, context)\n\u001b[0;32m     82\u001b[0m         \u001b[39mfor\u001b[39;00m k, v \u001b[39min\u001b[39;00m obj\u001b[39m.\u001b[39mitems()\n\u001b[0;32m     83\u001b[0m         \u001b[39mif\u001b[39;00m v \u001b[39mis\u001b[39;00m \u001b[39mnot\u001b[39;00m Undefined\n\u001b[0;32m     84\u001b[0m     }\n\u001b[0;32m     85\u001b[0m \u001b[39melif\u001b[39;00m \u001b[39mhasattr\u001b[39m(obj, \u001b[39m\"\u001b[39m\u001b[39mto_dict\u001b[39m\u001b[39m\"\u001b[39m):\n\u001b[0;32m     86\u001b[0m     \u001b[39mreturn\u001b[39;00m obj\u001b[39m.\u001b[39mto_dict()\n",
      "File \u001b[1;32mc:\\Users\\natha\\anaconda3\\envs\\cse163\\lib\\site-packages\\altair\\utils\\schemapi.py:76\u001b[0m, in \u001b[0;36m_todict\u001b[1;34m(obj, validate, context)\u001b[0m\n\u001b[0;32m     74\u001b[0m \u001b[39m\"\"\"Convert an object to a dict representation.\"\"\"\u001b[39;00m\n\u001b[0;32m     75\u001b[0m \u001b[39mif\u001b[39;00m \u001b[39misinstance\u001b[39m(obj, SchemaBase):\n\u001b[1;32m---> 76\u001b[0m     \u001b[39mreturn\u001b[39;00m obj\u001b[39m.\u001b[39;49mto_dict(validate\u001b[39m=\u001b[39;49mvalidate, context\u001b[39m=\u001b[39;49mcontext)\n\u001b[0;32m     77\u001b[0m \u001b[39melif\u001b[39;00m \u001b[39misinstance\u001b[39m(obj, (\u001b[39mlist\u001b[39m, \u001b[39mtuple\u001b[39m, np\u001b[39m.\u001b[39mndarray)):\n\u001b[0;32m     78\u001b[0m     \u001b[39mreturn\u001b[39;00m [_todict(v, validate, context) \u001b[39mfor\u001b[39;00m v \u001b[39min\u001b[39;00m obj]\n",
      "File \u001b[1;32mc:\\Users\\natha\\anaconda3\\envs\\cse163\\lib\\site-packages\\altair\\utils\\schemapi.py:346\u001b[0m, in \u001b[0;36mSchemaBase.to_dict\u001b[1;34m(self, validate, ignore, context)\u001b[0m\n\u001b[0;32m    344\u001b[0m     result \u001b[39m=\u001b[39m _todict(\u001b[39mself\u001b[39m\u001b[39m.\u001b[39m_args[\u001b[39m0\u001b[39m], validate\u001b[39m=\u001b[39msub_validate, context\u001b[39m=\u001b[39mcontext)\n\u001b[0;32m    345\u001b[0m \u001b[39melif\u001b[39;00m \u001b[39mnot\u001b[39;00m \u001b[39mself\u001b[39m\u001b[39m.\u001b[39m_args:\n\u001b[1;32m--> 346\u001b[0m     result \u001b[39m=\u001b[39m _todict(\n\u001b[0;32m    347\u001b[0m         {k: v \u001b[39mfor\u001b[39;49;00m k, v \u001b[39min\u001b[39;49;00m \u001b[39mself\u001b[39;49m\u001b[39m.\u001b[39;49m_kwds\u001b[39m.\u001b[39;49mitems() \u001b[39mif\u001b[39;49;00m k \u001b[39mnot\u001b[39;49;00m \u001b[39min\u001b[39;49;00m ignore},\n\u001b[0;32m    348\u001b[0m         validate\u001b[39m=\u001b[39;49msub_validate,\n\u001b[0;32m    349\u001b[0m         context\u001b[39m=\u001b[39;49mcontext,\n\u001b[0;32m    350\u001b[0m     )\n\u001b[0;32m    351\u001b[0m \u001b[39melse\u001b[39;00m:\n\u001b[0;32m    352\u001b[0m     \u001b[39mraise\u001b[39;00m \u001b[39mValueError\u001b[39;00m(\n\u001b[0;32m    353\u001b[0m         \u001b[39m\"\u001b[39m\u001b[39m{}\u001b[39;00m\u001b[39m instance has both a value and properties : \u001b[39m\u001b[39m\"\u001b[39m\n\u001b[0;32m    354\u001b[0m         \u001b[39m\"\u001b[39m\u001b[39mcannot serialize to dict\u001b[39m\u001b[39m\"\u001b[39m\u001b[39m.\u001b[39mformat(\u001b[39mself\u001b[39m\u001b[39m.\u001b[39m\u001b[39m__class__\u001b[39m)\n\u001b[0;32m    355\u001b[0m     )\n",
      "File \u001b[1;32mc:\\Users\\natha\\anaconda3\\envs\\cse163\\lib\\site-packages\\altair\\utils\\schemapi.py:80\u001b[0m, in \u001b[0;36m_todict\u001b[1;34m(obj, validate, context)\u001b[0m\n\u001b[0;32m     78\u001b[0m     \u001b[39mreturn\u001b[39;00m [_todict(v, validate, context) \u001b[39mfor\u001b[39;00m v \u001b[39min\u001b[39;00m obj]\n\u001b[0;32m     79\u001b[0m \u001b[39melif\u001b[39;00m \u001b[39misinstance\u001b[39m(obj, \u001b[39mdict\u001b[39m):\n\u001b[1;32m---> 80\u001b[0m     \u001b[39mreturn\u001b[39;00m {\n\u001b[0;32m     81\u001b[0m         k: _todict(v, validate, context)\n\u001b[0;32m     82\u001b[0m         \u001b[39mfor\u001b[39;00m k, v \u001b[39min\u001b[39;00m obj\u001b[39m.\u001b[39mitems()\n\u001b[0;32m     83\u001b[0m         \u001b[39mif\u001b[39;00m v \u001b[39mis\u001b[39;00m \u001b[39mnot\u001b[39;00m Undefined\n\u001b[0;32m     84\u001b[0m     }\n\u001b[0;32m     85\u001b[0m \u001b[39melif\u001b[39;00m \u001b[39mhasattr\u001b[39m(obj, \u001b[39m\"\u001b[39m\u001b[39mto_dict\u001b[39m\u001b[39m\"\u001b[39m):\n\u001b[0;32m     86\u001b[0m     \u001b[39mreturn\u001b[39;00m obj\u001b[39m.\u001b[39mto_dict()\n",
      "File \u001b[1;32mc:\\Users\\natha\\anaconda3\\envs\\cse163\\lib\\site-packages\\altair\\utils\\schemapi.py:81\u001b[0m, in \u001b[0;36m<dictcomp>\u001b[1;34m(.0)\u001b[0m\n\u001b[0;32m     78\u001b[0m     \u001b[39mreturn\u001b[39;00m [_todict(v, validate, context) \u001b[39mfor\u001b[39;00m v \u001b[39min\u001b[39;00m obj]\n\u001b[0;32m     79\u001b[0m \u001b[39melif\u001b[39;00m \u001b[39misinstance\u001b[39m(obj, \u001b[39mdict\u001b[39m):\n\u001b[0;32m     80\u001b[0m     \u001b[39mreturn\u001b[39;00m {\n\u001b[1;32m---> 81\u001b[0m         k: _todict(v, validate, context)\n\u001b[0;32m     82\u001b[0m         \u001b[39mfor\u001b[39;00m k, v \u001b[39min\u001b[39;00m obj\u001b[39m.\u001b[39mitems()\n\u001b[0;32m     83\u001b[0m         \u001b[39mif\u001b[39;00m v \u001b[39mis\u001b[39;00m \u001b[39mnot\u001b[39;00m Undefined\n\u001b[0;32m     84\u001b[0m     }\n\u001b[0;32m     85\u001b[0m \u001b[39melif\u001b[39;00m \u001b[39mhasattr\u001b[39m(obj, \u001b[39m\"\u001b[39m\u001b[39mto_dict\u001b[39m\u001b[39m\"\u001b[39m):\n\u001b[0;32m     86\u001b[0m     \u001b[39mreturn\u001b[39;00m obj\u001b[39m.\u001b[39mto_dict()\n",
      "File \u001b[1;32mc:\\Users\\natha\\anaconda3\\envs\\cse163\\lib\\site-packages\\altair\\utils\\schemapi.py:78\u001b[0m, in \u001b[0;36m_todict\u001b[1;34m(obj, validate, context)\u001b[0m\n\u001b[0;32m     76\u001b[0m     \u001b[39mreturn\u001b[39;00m obj\u001b[39m.\u001b[39mto_dict(validate\u001b[39m=\u001b[39mvalidate, context\u001b[39m=\u001b[39mcontext)\n\u001b[0;32m     77\u001b[0m \u001b[39melif\u001b[39;00m \u001b[39misinstance\u001b[39m(obj, (\u001b[39mlist\u001b[39m, \u001b[39mtuple\u001b[39m, np\u001b[39m.\u001b[39mndarray)):\n\u001b[1;32m---> 78\u001b[0m     \u001b[39mreturn\u001b[39;00m [_todict(v, validate, context) \u001b[39mfor\u001b[39;00m v \u001b[39min\u001b[39;00m obj]\n\u001b[0;32m     79\u001b[0m \u001b[39melif\u001b[39;00m \u001b[39misinstance\u001b[39m(obj, \u001b[39mdict\u001b[39m):\n\u001b[0;32m     80\u001b[0m     \u001b[39mreturn\u001b[39;00m {\n\u001b[0;32m     81\u001b[0m         k: _todict(v, validate, context)\n\u001b[0;32m     82\u001b[0m         \u001b[39mfor\u001b[39;00m k, v \u001b[39min\u001b[39;00m obj\u001b[39m.\u001b[39mitems()\n\u001b[0;32m     83\u001b[0m         \u001b[39mif\u001b[39;00m v \u001b[39mis\u001b[39;00m \u001b[39mnot\u001b[39;00m Undefined\n\u001b[0;32m     84\u001b[0m     }\n",
      "File \u001b[1;32mc:\\Users\\natha\\anaconda3\\envs\\cse163\\lib\\site-packages\\altair\\utils\\schemapi.py:78\u001b[0m, in \u001b[0;36m<listcomp>\u001b[1;34m(.0)\u001b[0m\n\u001b[0;32m     76\u001b[0m     \u001b[39mreturn\u001b[39;00m obj\u001b[39m.\u001b[39mto_dict(validate\u001b[39m=\u001b[39mvalidate, context\u001b[39m=\u001b[39mcontext)\n\u001b[0;32m     77\u001b[0m \u001b[39melif\u001b[39;00m \u001b[39misinstance\u001b[39m(obj, (\u001b[39mlist\u001b[39m, \u001b[39mtuple\u001b[39m, np\u001b[39m.\u001b[39mndarray)):\n\u001b[1;32m---> 78\u001b[0m     \u001b[39mreturn\u001b[39;00m [_todict(v, validate, context) \u001b[39mfor\u001b[39;00m v \u001b[39min\u001b[39;00m obj]\n\u001b[0;32m     79\u001b[0m \u001b[39melif\u001b[39;00m \u001b[39misinstance\u001b[39m(obj, \u001b[39mdict\u001b[39m):\n\u001b[0;32m     80\u001b[0m     \u001b[39mreturn\u001b[39;00m {\n\u001b[0;32m     81\u001b[0m         k: _todict(v, validate, context)\n\u001b[0;32m     82\u001b[0m         \u001b[39mfor\u001b[39;00m k, v \u001b[39min\u001b[39;00m obj\u001b[39m.\u001b[39mitems()\n\u001b[0;32m     83\u001b[0m         \u001b[39mif\u001b[39;00m v \u001b[39mis\u001b[39;00m \u001b[39mnot\u001b[39;00m Undefined\n\u001b[0;32m     84\u001b[0m     }\n",
      "File \u001b[1;32mc:\\Users\\natha\\anaconda3\\envs\\cse163\\lib\\site-packages\\altair\\utils\\schemapi.py:76\u001b[0m, in \u001b[0;36m_todict\u001b[1;34m(obj, validate, context)\u001b[0m\n\u001b[0;32m     74\u001b[0m \u001b[39m\"\"\"Convert an object to a dict representation.\"\"\"\u001b[39;00m\n\u001b[0;32m     75\u001b[0m \u001b[39mif\u001b[39;00m \u001b[39misinstance\u001b[39m(obj, SchemaBase):\n\u001b[1;32m---> 76\u001b[0m     \u001b[39mreturn\u001b[39;00m obj\u001b[39m.\u001b[39;49mto_dict(validate\u001b[39m=\u001b[39;49mvalidate, context\u001b[39m=\u001b[39;49mcontext)\n\u001b[0;32m     77\u001b[0m \u001b[39melif\u001b[39;00m \u001b[39misinstance\u001b[39m(obj, (\u001b[39mlist\u001b[39m, \u001b[39mtuple\u001b[39m, np\u001b[39m.\u001b[39mndarray)):\n\u001b[0;32m     78\u001b[0m     \u001b[39mreturn\u001b[39;00m [_todict(v, validate, context) \u001b[39mfor\u001b[39;00m v \u001b[39min\u001b[39;00m obj]\n",
      "File \u001b[1;32mc:\\Users\\natha\\anaconda3\\envs\\cse163\\lib\\site-packages\\altair\\vegalite\\v4\\schema\\channels.py:40\u001b[0m, in \u001b[0;36mFieldChannelMixin.to_dict\u001b[1;34m(self, validate, ignore, context)\u001b[0m\n\u001b[0;32m     38\u001b[0m \u001b[39melif\u001b[39;00m \u001b[39mnot\u001b[39;00m (type_in_shorthand \u001b[39mor\u001b[39;00m type_defined_explicitly):\n\u001b[0;32m     39\u001b[0m     \u001b[39mif\u001b[39;00m \u001b[39misinstance\u001b[39m(context\u001b[39m.\u001b[39mget(\u001b[39m'\u001b[39m\u001b[39mdata\u001b[39m\u001b[39m'\u001b[39m, \u001b[39mNone\u001b[39;00m), pd\u001b[39m.\u001b[39mDataFrame):\n\u001b[1;32m---> 40\u001b[0m         \u001b[39mraise\u001b[39;00m \u001b[39mValueError\u001b[39;00m(\u001b[39m\"\u001b[39m\u001b[39m{}\u001b[39;00m\u001b[39m encoding field is specified without a type; \u001b[39m\u001b[39m\"\u001b[39m\n\u001b[0;32m     41\u001b[0m                          \u001b[39m\"\u001b[39m\u001b[39mthe type cannot be inferred because it does not \u001b[39m\u001b[39m\"\u001b[39m\n\u001b[0;32m     42\u001b[0m                          \u001b[39m\"\u001b[39m\u001b[39mmatch any column in the data.\u001b[39m\u001b[39m\"\u001b[39m\u001b[39m.\u001b[39mformat(shorthand))\n\u001b[0;32m     43\u001b[0m     \u001b[39melse\u001b[39;00m:\n\u001b[0;32m     44\u001b[0m         \u001b[39mraise\u001b[39;00m \u001b[39mValueError\u001b[39;00m(\u001b[39m\"\u001b[39m\u001b[39m{}\u001b[39;00m\u001b[39m encoding field is specified without a type; \u001b[39m\u001b[39m\"\u001b[39m\n\u001b[0;32m     45\u001b[0m                          \u001b[39m\"\u001b[39m\u001b[39mthe type cannot be automatically inferred because \u001b[39m\u001b[39m\"\u001b[39m\n\u001b[0;32m     46\u001b[0m                          \u001b[39m\"\u001b[39m\u001b[39mthe data is not specified as a pandas.DataFrame.\u001b[39m\u001b[39m\"\u001b[39m\n\u001b[0;32m     47\u001b[0m                          \u001b[39m\"\u001b[39m\u001b[39m\"\u001b[39m\u001b[39m.\u001b[39mformat(shorthand))\n",
      "\u001b[1;31mValueError\u001b[0m: rating encoding field is specified without a type; the type cannot be inferred because it does not match any column in the data."
     ]
    }
   ],
   "source": [
    "import pandas as pd\n",
    "import altair as alt\n",
    "import altair_viewer as view\n",
    "\n",
    "# load the data\n",
    "master_data = pd.read_csv(\"data/master_dataset.csv\")\n",
    "expert_rating = pd.read_csv(\"data/expert_ratings.csv\")\n",
    "\n",
    "# merge the data based on title\n",
    "merged_data = pd.merge(master_data, expert_rating, left_on='original_title', right_on='title', how='inner')\n",
    "\n",
    "# create a scatter plot showing the relationship between user rating and expert rating\n",
    "scatter_plot = alt.Chart(merged_data).mark_point().encode(\n",
    "    x='rating',\n",
    "    y='Expert Rating',\n",
    "    tooltip=['original_title', 'rating', 'Expert Rating']\n",
    ").properties(\n",
    "    width=800,\n",
    "    height=400,\n",
    "    title='User Rating vs Expert Rating'\n",
    ")\n",
    "\n",
    "# Display the chart\n",
    "scatter_plot.show()\n"
   ]
  }
 ],
 "metadata": {
  "kernelspec": {
   "display_name": "Python 3 (ipykernel)",
   "language": "python",
   "name": "python3"
  },
  "language_info": {
   "codemirror_mode": {
    "name": "ipython",
    "version": 3
   },
   "file_extension": ".py",
   "mimetype": "text/x-python",
   "name": "python",
   "nbconvert_exporter": "python",
   "pygments_lexer": "ipython3",
   "version": "3.9.13"
  },
  "vscode": {
   "interpreter": {
    "hash": "9f30e5a3c7471fce55ab719dd49d4c88738f388467dd072a853518c91d047f41"
   }
  }
 },
 "nbformat": 4,
 "nbformat_minor": 5
}
