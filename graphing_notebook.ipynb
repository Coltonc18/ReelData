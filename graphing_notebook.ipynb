{
 "cells": [
  {
   "cell_type": "code",
   "execution_count": 83,
   "id": "bb7d8f6d",
   "metadata": {},
   "outputs": [],
   "source": [
    "# Setting inline to True should display graphs inline\n",
    "global inline\n",
    "inline=False"
   ]
  },
  {
   "cell_type": "code",
   "execution_count": 69,
   "id": "baa0a2ee",
   "metadata": {},
   "outputs": [
    {
     "data": {
      "text/html": [
       "Displaying chart at <a href='http://localhost:56011/' target='_blank'>http://localhost:56011/</a>"
      ],
      "text/plain": [
       "Displaying chart at http://localhost:56011/"
      ]
     },
     "execution_count": 69,
     "metadata": {},
     "output_type": "execute_result"
    }
   ],
   "source": [
    "'''\n",
    "Plot Movie Budget vs Expert Ratings\n",
    "'''\n",
    "import pandas as pd\n",
    "import altair as alt\n",
    "import altair_viewer as view\n",
    "\n",
    "alt.data_transformers.disable_max_rows()\n",
    "\n",
    "# Load the data from the CSV file\n",
    "data = pd.read_csv('data/master_dataset.csv')\n",
    "\n",
    "# Filter out movies with budgets less than $10,000\n",
    "data = data[(data['budget'] >= 10000) & (data['budget'] <= 300000000)]\n",
    "\n",
    "# Filter out movies with budgets and ratings that are 0\n",
    "data = data.query('budget > 0')\n",
    "data = data.query('RT_expert_rating > 0')\n",
    "\n",
    "# Define color scheme\n",
    "color_scheme = {\n",
    "    'Certified Fresh': '#E0B713',  \n",
    "    'Fresh': '#b30000',  \n",
    "    'Rotten': '#444444'  \n",
    "}\n",
    "\n",
    "# Create the scatter plot \n",
    "chart = alt.Chart(data).mark_point().encode(\n",
    "    x=alt.X('budget', axis=alt.Axis(title='Budget')),\n",
    "    y=alt.Y('RT_expert_rating', axis=alt.Axis(title='Expert Rating')),\n",
    "    color=alt.Color('tomatometer_status:N', legend=alt.Legend(title='Tomato Status'), scale=alt.Scale(range=list(color_scheme.values()))),\n",
    "    tooltip=['title','budget', 'RT_expert_rating']\n",
    ").properties(\n",
    "    title='Movie Budget vs Expert Ratings',\n",
    "    width=800,\n",
    "    height=400\n",
    ").interactive()\n",
    "\n",
    "# Display the chart\n",
    "view.display(chart, inline=inline)\n",
    "\n"
   ]
  },
  {
   "cell_type": "code",
   "execution_count": 70,
   "id": "ae585e6b",
   "metadata": {},
   "outputs": [
    {
     "data": {
      "text/html": [
       "Displaying chart at <a href='http://localhost:56011/' target='_blank'>http://localhost:56011/</a>"
      ],
      "text/plain": [
       "Displaying chart at http://localhost:56011/"
      ]
     },
     "execution_count": 70,
     "metadata": {},
     "output_type": "execute_result"
    }
   ],
   "source": [
    "'''\n",
    "Plot Movie Budget vs User Ratings\n",
    "'''\n",
    "\n",
    "import pandas as pd\n",
    "import altair as alt\n",
    "import altair_viewer as view\n",
    "\n",
    "# Load the data from the CSV file\n",
    "data = pd.read_csv('data/master_dataset.csv')\n",
    "\n",
    "# Filter out budgets less than $10,000\n",
    "data = data[(data['budget'] >= 10000) & (data['budget'] <= 300000000)\n",
    "]\n",
    "\n",
    "# Filter out budgets that are zero\n",
    "data = data.query('budget > 0')\n",
    "data = data.query('audience_rating > 0')\n",
    "data = data.dropna(subset=['audience_status'])\n",
    "\n",
    "color_scheme = {\n",
    "    'Spilled': '#444444',\n",
    "    'Upright': '#b30000'  \n",
    "}\n",
    "      \n",
    "\n",
    "# Create the scatter plot\n",
    "chart = alt.Chart(data).mark_point().encode(\n",
    "    x=alt.X('budget', axis=alt.Axis(title='Budget')),\n",
    "    y=alt.Y('audience_rating', axis=alt.Axis(title='User Rating')),\n",
    "    color=alt.Color('audience_status:N', legend=alt.Legend(title='Tomato Status'), scale=alt.Scale(range=list(color_scheme.values()))),\n",
    "    tooltip=['title','budget', 'audience_rating']\n",
    ").properties(\n",
    "    title='Movie Budget vs User Ratings',\n",
    "    width=800,\n",
    "    height=400\n",
    ").interactive()\n",
    "\n",
    "# Display the chart\n",
    "view.display(chart, inline=inline)\n"
   ]
  },
  {
   "cell_type": "code",
   "execution_count": 71,
   "id": "7618d643",
   "metadata": {},
   "outputs": [
    {
     "data": {
      "text/html": [
       "Displaying chart at <a href='http://localhost:56011/' target='_blank'>http://localhost:56011/</a>"
      ],
      "text/plain": [
       "Displaying chart at http://localhost:56011/"
      ]
     },
     "execution_count": 71,
     "metadata": {},
     "output_type": "execute_result"
    }
   ],
   "source": [
    "''' \n",
    "Plot Revenue by Year\n",
    "'''\n",
    "\n",
    "import pandas as pd\n",
    "import altair as alt\n",
    "import altair_viewer as view\n",
    "\n",
    "alt.data_transformers.disable_max_rows()\n",
    "\n",
    "# Load the data\n",
    "data = pd.read_csv(\"data/master_dataset.csv\")\n",
    "\n",
    "# Filter data by year 1930 - 2017\n",
    "data = data.query(\"release_date >= '1930-01-01' and release_date < '2017-01-01'\")\n",
    "\n",
    "# Create a bar chart showing relationships between revenue and year\n",
    "bar_chart = alt.Chart(data).mark_bar().encode(\n",
    "    x=alt.X('year(release_date):T', axis=alt.Axis(title='Release Date'), scale=alt.Scale(domain=(1930, 2016))),\n",
    "    y=alt.Y('sum(revenue)', axis=alt.Axis(title='Total Revenue')),\n",
    "    color=alt.Color('sum(revenue)', scale=alt.Scale(scheme='goldred'), legend=None),\n",
    "    tooltip=['year(release_date):T', 'sum(revenue)'],\n",
    ").properties(\n",
    "    title='Revenue by Year',\n",
    "    width=800,\n",
    "    height=400\n",
    ").interactive()\n",
    "\n",
    "# display the chart\n",
    "view.display(bar_chart, inline=inline)\n"
   ]
  },
  {
   "cell_type": "code",
   "execution_count": 72,
   "id": "498082d9",
   "metadata": {},
   "outputs": [
    {
     "data": {
      "text/html": [
       "Displaying chart at <a href='http://localhost:56011/' target='_blank'>http://localhost:56011/</a>"
      ],
      "text/plain": [
       "Displaying chart at http://localhost:56011/"
      ]
     },
     "execution_count": 72,
     "metadata": {},
     "output_type": "execute_result"
    }
   ],
   "source": [
    "''' \n",
    "Plot User Rating vs Expert Rating\n",
    "'''\n",
    "\n",
    "import pandas as pd\n",
    "import altair as alt\n",
    "import altair_viewer as view\n",
    "\n",
    "# load the data\n",
    "data = pd.read_csv(\"data/master_dataset.csv\")\n",
    "\n",
    "# Filter out budgets that are zero\n",
    "data = data.query('budget > 0')\n",
    "\n",
    "# filter out rows where RT_expert_rating is 0\n",
    "data = data[(data['RT_expert_rating'] != 0) & (data['audience_rating'].notna())]\n",
    "\n",
    "# create a scatter plot showing the relationship between user rating and expert rating\n",
    "scatter_plot = alt.Chart(data).mark_point().encode(\n",
    "    x=alt.X('user_rating', axis=alt.Axis(title='User Rating')),\n",
    "    y=alt.Y('RT_expert_rating', axis=alt.Axis(title='Expert Rating')),\n",
    "    tooltip=['title','user_rating', 'RT_expert_rating', 'budget']\n",
    ").properties(\n",
    "    width=800,\n",
    "    height=400,\n",
    "    title='User Rating vs Expert Rating'\n",
    ")\n",
    "\n",
    "# Display the chart\n",
    "view.display(scatter_plot, inline=inline)\n"
   ]
  },
  {
   "cell_type": "code",
   "execution_count": 73,
   "id": "8aa12c8f",
   "metadata": {},
   "outputs": [
    {
     "name": "stdout",
     "output_type": "stream",
     "text": [
      "Top 10 production companies based on total revenue:\n",
      "production_companies\n",
      "Warner Bros.                              6.604922e+10\n",
      "Universal Pictures                        6.194357e+10\n",
      "Paramount Pictures                        5.409983e+10\n",
      "Walt Disney Pictures                      5.266523e+10\n",
      "Twentieth Century Fox Film Corporation    4.876887e+10\n",
      "Columbia Pictures                         3.551452e+10\n",
      "New Line Cinema                           2.294863e+10\n",
      "Amblin Entertainment                      1.752602e+10\n",
      "DreamWorks SKG                            1.636693e+10\n",
      "Relativity Media                          1.574079e+10\n",
      "Name: revenue, dtype: float64\n"
     ]
    }
   ],
   "source": [
    "'''\n",
    "Production Companies vs Total Revenue\n",
    "'''\n",
    "\n",
    "import pandas as pd\n",
    "import altair as alt\n",
    "import altair_viewer as view\n",
    "\n",
    "alt.data_transformers.disable_max_rows()\n",
    "\n",
    "# Load the data from the CSV file\n",
    "data = pd.read_csv('data/master_dataset.csv')\n",
    "\n",
    "# Extract the name of each production company from the dictionary and explode the column\n",
    "data['production_companies'] = data['production_companies'].str.split(\", \")\n",
    "data = data.explode('production_companies')\n",
    "\n",
    "# Filter to get the top 30 production companies based on total revenue and put it into a list\n",
    "top_producers = data.groupby('production_companies')['revenue'].sum().sort_values(ascending=False).head(15).index.tolist()\n",
    "data = data[data['production_companies'].isin(top_producers)]\n",
    "\n",
    "# Define the color scale as a gradient with the desired number of colors\n",
    "num_colors = len(top_producers)\n",
    "color_scale = alt.Scale(scheme='goldred', domain=top_producers)\n",
    "\n",
    "\n",
    "# Create a chart for all selected production companies, sorting in decsending order\n",
    "chart = alt.Chart(data).mark_bar().encode(\n",
    "    x=alt.X('production_companies:N', sort='-y', axis=alt.Axis(labelAngle=45, title='Producion Companies')),\n",
    "    y=alt.Y('sum(revenue):Q', axis=alt.Axis(title='Total Revenue')),\n",
    "    color=alt.Color('production_companies:N', sort=alt.EncodingSortField('revenue', order='descending'),\n",
    "                    scale=color_scale, legend=None),\n",
    "    tooltip=['production_companies:N', 'sum(revenue):Q']\n",
    ").properties(\n",
    "    title='Top 10 Production Companies vs Total Revenue',\n",
    "    width=800,\n",
    "    height=400\n",
    ").interactive()\n",
    "\n",
    "# Display the chart\n",
    "view.display(chart, inline=inline)\n",
    "\n",
    "# Print the top 10 production companies based on total revenue\n",
    "print(\"Top 10 production companies based on total revenue:\")\n",
    "print(data.groupby('production_companies')['revenue'].sum().sort_values(ascending=False).head(10))\n",
    "\n"
   ]
  },
  {
   "cell_type": "code",
   "execution_count": 74,
   "id": "14777849",
   "metadata": {},
   "outputs": [
    {
     "name": "stdout",
     "output_type": "stream",
     "text": [
      "There are 20 unique genres in the data\n"
     ]
    }
   ],
   "source": [
    "''' \n",
    "Genre vs Average User Rating\n",
    "'''\n",
    "import altair as alt\n",
    "import altair_viewer as view\n",
    "import pandas as pd\n",
    "\n",
    "# Load the data from the CSV file\n",
    "data = pd.read_csv('data/master_dataset.csv')\n",
    "\n",
    "# Split the genres column and explode the column\n",
    "data['genres'] = data['genres'].str.split(', ')\n",
    "data = data.explode('genres')\n",
    "\n",
    "# Filter to get the genres and sort in decsending order\n",
    "top_genres = data.groupby('genres').size().sort_values(ascending=False).index\n",
    "data = data[data['genres'].isin(top_genres)]\n",
    "\n",
    "# Group the data by genre and calculate the average user rating for each genre\n",
    "genre_ratings = data.groupby('genres').agg({'user_rating': 'mean'}).reset_index()\n",
    "\n",
    "# Define the color scale as a gradient with the desired number of colors\n",
    "num_colors = len(top_genres)\n",
    "color_scale = alt.Scale(scheme='goldred', domain=list(range(num_colors)))\n",
    "\n",
    "# Sort the data by average user rating in descending order and reset the index\n",
    "genre_ratings = genre_ratings.sort_values('user_rating', ascending=False).reset_index(drop=True)\n",
    "\n",
    "# Assign a rank to each genre based on its index in the sorted data\n",
    "genre_ratings['rank'] = genre_ratings.index\n",
    "\n",
    "# Create a stacked bar chart showing the average user rating for each genre\n",
    "chart = alt.Chart(genre_ratings).mark_bar().encode(\n",
    "    x=alt.X('genres:N', sort='-y', axis=alt.Axis(labelAngle=45, title='Genres')),\n",
    "    y=alt.Y('user_rating:Q', axis=alt.Axis(title='Average User Rating')),\n",
    "    color=alt.Color('rank:O', scale=color_scale, legend=None)\n",
    ").properties(\n",
    "    title='Genre vs Average User Rating',\n",
    "    width=800,\n",
    "    height=400\n",
    ").interactive()\n",
    "\n",
    "# Display the chart\n",
    "view.display(chart, inline=inline)\n",
    "print(f\"There are {len(data['genres'].unique())} unique genres in the data\")\n",
    "\n",
    "\n",
    "\n",
    "\n",
    "\n",
    "\n"
   ]
  },
  {
   "cell_type": "code",
   "execution_count": 75,
   "id": "cb7c0e7e",
   "metadata": {},
   "outputs": [
    {
     "name": "stdout",
     "output_type": "stream",
     "text": [
      "There are 20 unique genres in the data\n"
     ]
    }
   ],
   "source": [
    "'''\n",
    "Genres vs Expert Ratings\n",
    "'''\n",
    "\n",
    "import pandas as pd\n",
    "import altair as alt\n",
    "import altair_viewer as view\n",
    "\n",
    "# Load the data from the CSV file\n",
    "data = pd.read_csv('data/master_dataset.csv')\n",
    "\n",
    "# Split the genres column and explode the column\n",
    "data['genres'] = data['genres'].str.split(', ')\n",
    "data = data.explode('genres')\n",
    "\n",
    "# Filter to get the genres and sort in decsending order\n",
    "top_genres = data.groupby('genres').size().sort_values(ascending=False).index\n",
    "data = data[data['genres'].isin(top_genres)]\n",
    "\n",
    "# Group the data by genre and calculate the average expert rating for each genre\n",
    "genre_ratings = data.groupby('genres').agg({'RT_expert_rating': 'mean'}).reset_index()\n",
    "\n",
    "# Define the color scale as a gradient with the desired number of colors\n",
    "num_colors = len(top_genres)\n",
    "color_scale = alt.Scale(scheme='goldred', domain=list(range(num_colors)))\n",
    "\n",
    "# Sort the data by average expert rating in descending order and reset the index\n",
    "genre_ratings = genre_ratings.sort_values('RT_expert_rating', ascending=False).reset_index(drop=True)\n",
    "\n",
    "# Assign a rank to each genre based on its index in the sorted data\n",
    "genre_ratings['rank'] = genre_ratings.index\n",
    "\n",
    "# Create a stacked bar chart showing the average expert rating for each genre\n",
    "chart = alt.Chart(genre_ratings).mark_bar().encode(\n",
    "    x=alt.X('genres:N', sort='-y', axis=alt.Axis(labelAngle=45, title='Genres')),\n",
    "    y=alt.Y('RT_expert_rating:Q', axis=alt.Axis(title='Average Expert Rating')),\n",
    "    color=alt.Color('rank:O', scale=color_scale, legend=None)\n",
    ").properties(\n",
    "    title='Genre vs Expert Rating',\n",
    "    width=800,\n",
    "    height=400\n",
    ").interactive()\n",
    "\n",
    "# Display the chart\n",
    "view.display(chart, inline=inline)\n",
    "print(f\"There are {len(data['genres'].unique())} unique genres in the data\")\n"
   ]
  },
  {
   "cell_type": "code",
   "execution_count": 76,
   "id": "06239edb",
   "metadata": {},
   "outputs": [
    {
     "name": "stdout",
     "output_type": "stream",
     "text": [
      "Total Revenue:\n",
      "             genres       revenue\n",
      "0            Action  2.013881e+11\n",
      "1         Adventure  1.999787e+11\n",
      "2         Animation  6.743297e+10\n",
      "3            Comedy  1.668450e+11\n",
      "4             Crime  6.337573e+10\n",
      "5       Documentary  1.449112e+09\n",
      "6             Drama  1.607544e+11\n",
      "7            Family  1.070768e+11\n",
      "8           Fantasy  1.039202e+11\n",
      "9           Foreign  2.915363e+08\n",
      "10          History  1.490220e+10\n",
      "11           Horror  3.083709e+10\n",
      "12            Music  1.337029e+10\n",
      "13          Mystery  3.475461e+10\n",
      "14          Romance  7.347319e+10\n",
      "15  Science Fiction  9.784796e+10\n",
      "16         TV Movie  4.200000e+07\n",
      "17         Thriller  1.297246e+11\n",
      "18              War  1.591046e+10\n",
      "19          Western  5.122499e+09\n"
     ]
    },
    {
     "data": {
      "text/html": [
       "Displaying chart at <a href='http://localhost:56011/' target='_blank'>http://localhost:56011/</a>"
      ],
      "text/plain": [
       "Displaying chart at http://localhost:56011/"
      ]
     },
     "execution_count": 76,
     "metadata": {},
     "output_type": "execute_result"
    }
   ],
   "source": [
    "''' \n",
    "Genre vs Total Revenue\n",
    "'''\n",
    "\n",
    "import pandas as pd\n",
    "import altair as alt\n",
    "import altair_viewer as view\n",
    "\n",
    "# Load the data\n",
    "data = pd.read_csv(\"data/master_dataset.csv\")\n",
    "\n",
    "# Filter out movies with zero revenue and missing genres\n",
    "data = data.query('revenue > 0')\n",
    "data = data.dropna(subset=['genres'])\n",
    "\n",
    "# Explode the genres column to make a row for each genre in a movie\n",
    "data = data.assign(genres=data['genres'].str.split(',')).explode('genres')\n",
    "\n",
    "# Remove duplicates from genres column\n",
    "data['genres'] = data['genres'].str.strip()\n",
    "data = data.drop_duplicates(subset=['genres', 'imdb_id'])  # Consider unique (genre, imdb_id) pairs\n",
    "\n",
    "# Calculate the total revenue for each genre\n",
    "genre_revenue_sum = data.groupby('genres')['revenue'].sum().reset_index()\n",
    "print(\"Total Revenue:\")\n",
    "print(genre_revenue_sum)\n",
    "\n",
    "# Create the bar graph showing revenue by genre\n",
    "chart = alt.Chart(genre_revenue_sum).mark_bar().encode(\n",
    "    x=alt.X('genres:N', sort='-y', axis=alt.Axis(labelAngle=45, title='Genres')),\n",
    "    y=alt.Y('revenue:Q', axis=alt.Axis(title='Total Revenue')),\n",
    "    color=alt.Color('genres:N', sort=alt.EncodingSortField('revenue', order='descending'),\n",
    "                    scale=alt.Scale(scheme='goldred', reverse=False), legend=None),\n",
    "    tooltip=['genres:N', 'revenue:Q']\n",
    ").properties(\n",
    "    title='Genre vs Total Revenue',\n",
    "    width=800,\n",
    "    height=400\n",
    ").interactive()\n",
    "\n",
    "# display the chart\n",
    "view.display(chart, inline=inline)\n",
    "\n"
   ]
  },
  {
   "cell_type": "code",
   "execution_count": 77,
   "id": "7001c267",
   "metadata": {},
   "outputs": [
    {
     "data": {
      "text/html": [
       "Displaying chart at <a href='http://localhost:56011/' target='_blank'>http://localhost:56011/</a>"
      ],
      "text/plain": [
       "Displaying chart at http://localhost:56011/"
      ]
     },
     "execution_count": 77,
     "metadata": {},
     "output_type": "execute_result"
    }
   ],
   "source": [
    "''' \n",
    "Genre vs Average Revenue\n",
    "https://vega.github.io/vega/docs/schemes/\n",
    "'''\n",
    "import pandas as pd\n",
    "import altair as alt\n",
    "import altair_viewer as view\n",
    "\n",
    "alt.data_transformers.disable_max_rows()\n",
    "\n",
    "# Load the data\n",
    "data = pd.read_csv(\"data/master_dataset.csv\")\n",
    "\n",
    "# Filter out movies with zero revenue and missing genres\n",
    "data = data.query('revenue > 0')\n",
    "data = data.dropna(subset=['genres'])\n",
    "\n",
    "# Explode the genres column to make a row for each genre in a movie\n",
    "data = data.assign(genres=data['genres'].str.split(',')).explode('genres')\n",
    "\n",
    "# Remove duplicates from genres column\n",
    "data['genres'] = data['genres'].str.strip()\n",
    "data = data.drop_duplicates(subset=['genres', 'imdb_id'])  # Consider unique (genre, imdb_id) pairs\n",
    "\n",
    "# Calculate the average revenue for each genre\n",
    "genre_revenue = data.groupby('genres')['revenue'].mean().reset_index()\n",
    "\n",
    "# Sort the genres by revenue in descending order\n",
    "genre_revenue = genre_revenue.sort_values('revenue', ascending=False)\n",
    "\n",
    "# Create the bar chart showing average revenue by genre\n",
    "chart = alt.Chart(genre_revenue).mark_bar().encode(\n",
    "    x=alt.X('genres:N', sort='-y', axis=alt.Axis(labelAngle=45, title='Genres')),\n",
    "    y=alt.Y('revenue:Q', axis=alt.Axis(title='Average Revenue')),\n",
    "    color=alt.Color('genres:N', sort=alt.EncodingSortField('revenue', order='descending'),\n",
    "                    scale=alt.Scale(scheme='goldred', reverse=False), legend=None),\n",
    "    tooltip=['genres:N', 'revenue:Q']\n",
    ").properties(\n",
    "    title='Genre vs Average Revenue',\n",
    "    width=800,\n",
    "    height=400\n",
    ").interactive()\n",
    "\n",
    "# display the chart\n",
    "view.display(chart, inline=inline)\n",
    "\n"
   ]
  },
  {
   "cell_type": "code",
   "execution_count": 78,
   "id": "e78e3c28",
   "metadata": {},
   "outputs": [
    {
     "data": {
      "text/html": [
       "Displaying chart at <a href='http://localhost:56011/' target='_blank'>http://localhost:56011/</a>"
      ],
      "text/plain": [
       "Displaying chart at http://localhost:56011/"
      ]
     },
     "execution_count": 78,
     "metadata": {},
     "output_type": "execute_result"
    }
   ],
   "source": [
    "''' \n",
    "Top actors vs Revenue\n",
    "'''\n",
    "import pandas as pd\n",
    "import altair as alt\n",
    "import altair_viewer as view\n",
    "\n",
    "# load data\n",
    "data = pd.read_csv('data/master_dataset.csv')\n",
    "\n",
    "# calculate average revenue for movies with top 100 actors\n",
    "alist_avg_revenue = data[data['a_list'] == 1]['revenue'].mean()\n",
    "\n",
    "# calculate average revenue for movies with top 100 actors\n",
    "top100_avg_revenue = data[data['top_100'] == 1]['revenue'].mean()\n",
    "\n",
    "# calculate average revenue for movies with top 1k actors\n",
    "top1k_avg_revenue = data[data['top_1k'] == 1]['revenue'].mean()\n",
    "\n",
    "# calculate average revenue for movies with no top actors\n",
    "no_top_avg_revenue = data[(data['a_list'] == 0) & (data['top_100'] == 0) & (data['top_1k'] == 0)]['revenue'].mean()\n",
    "\n",
    "# create a DataFrame to use for plotting\n",
    "plot_data = pd.DataFrame({\n",
    "    'actor_type': pd.Categorical(['A List', 'Top 100', 'Top 1K', 'No Top Actors'], categories=['A List', 'Top 100', 'Top 1K', 'No Top Actors'], ordered=True),\n",
    "    'average_revenue': [alist_avg_revenue, top100_avg_revenue, top1k_avg_revenue, no_top_avg_revenue],\n",
    "})\n",
    "\n",
    "# define the desired colors for each bar 6699ff\n",
    "color_scheme = {\n",
    "    'A List': '#b30000',\n",
    "    'Top 100': '#E0B713',\n",
    "    'Top 1K': '#13A3E0',\n",
    "    'No Top Actors': '#444444'\n",
    "}\n",
    "\n",
    "# create bar chart\n",
    "chart = alt.Chart(plot_data).mark_bar().encode(\n",
    "    x=alt.X('actor_type', title='Actor Type', axis=alt.Axis(labelAngle=0), sort=['A List', 'Top 100', 'Top 1K', 'No Top Actors']),\n",
    "    y=alt.Y('average_revenue', title='Average Revenue'),\n",
    "    color=alt.Color('actor_type:N', legend=None, scale=alt.Scale(domain=list(color_scheme.keys()), range=list(color_scheme.values()))),\n",
    "    tooltip=['actor_type:N', 'average_revenue:Q']\n",
    ").properties(\n",
    "    title='Type of Actor vs Average Revenue',\n",
    "    width=400,\n",
    "    height=400\n",
    ").interactive()\n",
    "\n",
    "# display chart\n",
    "view.display(chart, inline=inline)\n",
    "\n",
    "\n"
   ]
  },
  {
   "cell_type": "code",
   "execution_count": 79,
   "id": "8806b9de",
   "metadata": {},
   "outputs": [
    {
     "data": {
      "text/html": [
       "Displaying chart at <a href='http://localhost:56011/' target='_blank'>http://localhost:56011/</a>"
      ],
      "text/plain": [
       "Displaying chart at http://localhost:56011/"
      ]
     },
     "execution_count": 79,
     "metadata": {},
     "output_type": "execute_result"
    }
   ],
   "source": [
    "'''\n",
    "Top actors vs User_Ratings\n",
    "'''\n",
    "import pandas as pd\n",
    "import altair as alt\n",
    "import altair_viewer as view\n",
    "\n",
    "# load data\n",
    "data = pd.read_csv('data/master_dataset.csv')\n",
    "\n",
    "# calculate average user rating for movies with A-list actors\n",
    "alist_avg_rating = data[data['a_list'] == 1]['audience_rating'].mean()\n",
    "\n",
    "# calculate average user rating for movies with top 100 actors\n",
    "top100_avg_rating = data[data['top_100'] == 1]['audience_rating'].mean()\n",
    "\n",
    "# calculate average user rating for movies with top 1k actors\n",
    "top1k_avg_rating = data[data['top_1k'] == 1]['audience_rating'].mean()\n",
    "\n",
    "# calculate average user rating for movies without top actors\n",
    "no_top_avg_rating = data[(data['a_list'] == 0) & (data['top_100'] == 0) & (data['top_1k'] == 0)]['user_rating'].mean()\n",
    "\n",
    "# create a DataFrame to use for plotting\n",
    "plot_data = pd.DataFrame({\n",
    "    'actor_type': pd.Categorical(['A List', 'Top 100', 'Top 1K', 'No Top Actors'], categories=['A List', 'Top 100', 'Top 1K', 'No Top Actors'], ordered=True),\n",
    "    'average_rating': [alist_avg_rating, top100_avg_rating, top1k_avg_rating, no_top_avg_rating],\n",
    "})\n",
    "\n",
    "# define the desired colors for each bar\n",
    "color_scheme = {\n",
    "    'A List': '#b30000',\n",
    "    'Top 100': '#E0B713',\n",
    "    'Top 1K': '#13A3E0',\n",
    "    'No Top Actors': '#444444'\n",
    "}\n",
    "\n",
    "# create bar chart\n",
    "chart = alt.Chart(plot_data).mark_bar().encode(\n",
    "    x=alt.X('actor_type', title='Actor Type', axis=alt.Axis(labelAngle=0),sort=['A List', 'Top 100', 'Top 1K', 'No Top Actors']),\n",
    "    y=alt.Y('average_rating', title='Average User Rating'),\n",
    "    color=alt.Color('actor_type:N', legend=None, scale=alt.Scale(domain=list(color_scheme.keys()), range=list(color_scheme.values()))),\n",
    "    tooltip=['actor_type:N', 'average_rating:Q']\n",
    ").properties(\n",
    "    title='Top Actors vs User Ratings',\n",
    "    width=400,\n",
    "    height=400\n",
    ").interactive()\n",
    "\n",
    "\n",
    "# display chart\n",
    "view.display(chart, inline=inline)\n",
    "\n",
    "\n"
   ]
  },
  {
   "cell_type": "code",
   "execution_count": 80,
   "metadata": {},
   "outputs": [
    {
     "data": {
      "text/html": [
       "Displaying chart at <a href='http://localhost:56011/' target='_blank'>http://localhost:56011/</a>"
      ],
      "text/plain": [
       "Displaying chart at http://localhost:56011/"
      ]
     },
     "execution_count": 80,
     "metadata": {},
     "output_type": "execute_result"
    }
   ],
   "source": [
    "'''\n",
    "Top actors vs Expert_Ratings\n",
    "'''\n",
    "import pandas as pd\n",
    "import altair as alt\n",
    "import altair_viewer as view\n",
    "\n",
    "# load data\n",
    "data = pd.read_csv('data/master_dataset.csv')\n",
    "\n",
    "# calculate average expert rating for movies with A-list actors\n",
    "alist_avg_rating = data[data['a_list'] == 1]['RT_expert_rating'].mean()\n",
    "\n",
    "# calculate average expert rating for movies with top 100 actors\n",
    "top100_avg_rating = data[data['top_100'] == 1]['RT_expert_rating'].mean()\n",
    "\n",
    "# calculate average expert rating for movies with top 1k actors\n",
    "top1k_avg_rating = data[data['top_1k'] == 1]['RT_expert_rating'].mean()\n",
    "\n",
    "# calculate average expert rating for movies without top actors\n",
    "no_top_avg_rating = data[(data['a_list'] == 0) & (data['top_100'] == 0) & (data['top_1k'] == 0)]['RT_expert_rating'].mean()\n",
    "\n",
    "# create a DataFrame to use for plotting\n",
    "plot_data = pd.DataFrame({\n",
    "    'actor_type': pd.Categorical(['A List', 'Top 100', 'Top 1K', 'No Top Actors'], categories=['A List', 'Top 100', 'Top 1K', 'No Top Actors'], ordered=True),\n",
    "    'average_rating': [alist_avg_rating, top100_avg_rating, top1k_avg_rating, no_top_avg_rating],\n",
    "\n",
    "})\n",
    "\n",
    "color_scheme = {\n",
    "    'A List': '#b30000',\n",
    "    'Top 100': '#E0B713',\n",
    "    'Top 1K': '#13A3E0',\n",
    "    'No Top Actors': '#444444'\n",
    "}\n",
    "\n",
    "# create bar chart\n",
    "chart = alt.Chart(plot_data).mark_bar().encode(\n",
    "    x=alt.X('actor_type', title='Actor Type', axis=alt.Axis(labelAngle=0), sort=['A List', 'Top 100', 'Top 1K', 'No Top Actors']),\n",
    "    y=alt.Y('average_rating:Q', title='Average Expert Rating'),\n",
    "    color=alt.Color('actor_type:N', legend=None, scale=alt.Scale(domain=list(color_scheme.keys()), range=list(color_scheme.values()))),\n",
    "    tooltip=['actor_type:N', 'average_rating:Q']\n",
    ").properties(\n",
    "    title='Top Actors vs Expert Ratings',\n",
    "    width=400,\n",
    "    height=400\n",
    ").interactive()\n",
    "\n",
    "# display chart\n",
    "view.display(chart, inline=inline)\n"
   ]
  },
  {
   "cell_type": "code",
   "execution_count": 81,
   "id": "9d031ca4",
   "metadata": {},
   "outputs": [
    {
     "data": {
      "text/html": [
       "Displaying chart at <a href='http://localhost:56011/' target='_blank'>http://localhost:56011/</a>"
      ],
      "text/plain": [
       "Displaying chart at http://localhost:56011/"
      ]
     },
     "execution_count": 81,
     "metadata": {},
     "output_type": "execute_result"
    }
   ],
   "source": [
    "''' \n",
    "Release Data vs Expert Rating\n",
    "'''\n",
    "import pandas as pd\n",
    "import altair as alt\n",
    "import altair_viewer as view\n",
    "from scipy.signal import savgol_filter\n",
    "\n",
    "# Load the data\n",
    "data = pd.read_csv(\"data/master_dataset.csv\")\n",
    "\n",
    "# Convert release_date to datetime type\n",
    "data['release_date'] = pd.to_datetime(data['release_date'])\n",
    "\n",
    "# Filter data by year 1930 - 2017\n",
    "data = data.query(\"release_date >= '1930-01-01' and release_date < '2017-01-01'\")\n",
    "\n",
    "# Calculate the mean expert rating for each year\n",
    "avg_rating = data.groupby(pd.Grouper(key='release_date', freq='Y'))['RT_expert_rating'].mean(numeric_only=True).reset_index()\n",
    "\n",
    "avg_rating['RT_expert_rating'] = savgol_filter(avg_rating['RT_expert_rating'], 50, 7)\n",
    "\n",
    "\n",
    "# Create a line graph showing average expert rating over the years\n",
    "chart = alt.Chart(avg_rating).mark_line(color='#b30000').encode(\n",
    "    x=alt.X('year(release_date):T', axis=alt.Axis(title='Release Date'), scale=alt.Scale(domain=(1930,2016))),\n",
    "    y=alt.Y('RT_expert_rating', axis=alt.Axis(title='Average Expert Rating')),\n",
    "    tooltip=['year(release_date):T', 'RT_expert_rating'],\n",
    ")\n",
    "\n",
    "# set chart properties\n",
    "chart = chart.properties(\n",
    "    width=800,\n",
    "    height=400,\n",
    "    title='Average Expert Rating per Year'\n",
    ")\n",
    "\n",
    "# display the chart\n",
    "view.display(chart, inline=inline)\n",
    "\n",
    "\n"
   ]
  },
  {
   "cell_type": "code",
   "execution_count": 82,
   "metadata": {},
   "outputs": [
    {
     "data": {
      "text/html": [
       "Displaying chart at <a href='http://localhost:56011/' target='_blank'>http://localhost:56011/</a>"
      ],
      "text/plain": [
       "Displaying chart at http://localhost:56011/"
      ]
     },
     "execution_count": 82,
     "metadata": {},
     "output_type": "execute_result"
    }
   ],
   "source": [
    "'''\n",
    "Plot Movie Budget vs Average Revenue\n",
    "'''\n",
    "\n",
    "import pandas as pd\n",
    "import altair as alt\n",
    "import altair_viewer as view\n",
    "from scipy.signal import savgol_filter\n",
    "\n",
    "# Load the data from the CSV file\n",
    "data = pd.read_csv('data/master_dataset.csv')\n",
    "\n",
    "# Filter out budgets less than $10,000\n",
    "data = data[(data['budget'] >= 10000) & (data['budget'] <= 40000000)]\n",
    "\n",
    "# Filter out budgets and revenues that are zero\n",
    "data = data.query('budget > 0')\n",
    "data = data.query('revenue > 0')\n",
    "\n",
    "# Calculate the average revenue for each budget value\n",
    "avg_revenue = data.groupby('budget')['revenue'].mean().reset_index()\n",
    "avg_revenue['revenue'] = savgol_filter(avg_revenue['revenue'], 70, 10)\n",
    "\n",
    "# Create the line plot\n",
    "chart = alt.Chart(avg_revenue).mark_line(color='#E0B713', interpolate='bundle').encode(\n",
    "    x=alt.X('budget', axis=alt.Axis(title='Budget')),\n",
    "    y=alt.Y('revenue', axis=alt.Axis(title='Average Revenue')),\n",
    "    tooltip=['budget', 'revenue']\n",
    ").properties(\n",
    "    title='Movie Budget vs Average Revenue',\n",
    "    width=800,\n",
    "    height=400\n",
    ").interactive()\n",
    "\n",
    "# Display the chart\n",
    "view.display(chart, inline=inline)\n",
    "\n",
    "\n"
   ]
  }
 ],
 "metadata": {
  "kernelspec": {
   "display_name": "Python 3.9.16 ('base')",
   "language": "python",
   "name": "python3"
  },
  "language_info": {
   "codemirror_mode": {
    "name": "ipython",
    "version": 3
   },
   "file_extension": ".py",
   "mimetype": "text/x-python",
   "name": "python",
   "nbconvert_exporter": "python",
   "pygments_lexer": "ipython3",
   "version": "3.9.13"
  },
  "vscode": {
   "interpreter": {
    "hash": "a141964305fc60b9d76438b9574b455eb2b02b4cd1c99e8f47f6addfe15d5f72"
   }
  }
 },
 "nbformat": 4,
 "nbformat_minor": 5
}
