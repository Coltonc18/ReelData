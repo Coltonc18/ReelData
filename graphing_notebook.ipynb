{
 "cells": [
  {
   "attachments": {},
   "cell_type": "markdown",
   "id": "bcde86c3",
   "metadata": {},
   "source": [
    "Can we use this as inspiration for some graphs?  \n",
    "[Example Notebook](https://www.kaggle.com/code/gnk980/night-in-let-s-watch-a-movie)"
   ]
  },
  {
   "cell_type": "code",
   "execution_count": 4,
   "id": "baa0a2ee",
   "metadata": {},
   "outputs": [
    {
     "data": {
      "text/html": [
       "Displaying chart at <a href='http://localhost:64594/' target='_blank'>http://localhost:64594/</a>"
      ],
      "text/plain": [
       "Displaying chart at http://localhost:64594/"
      ]
     },
     "execution_count": 4,
     "metadata": {},
     "output_type": "execute_result"
    }
   ],
   "source": [
    "'''\n",
    "Plot Movie Budget vs Expert Ratings\n",
    "'''\n",
    "import pandas as pd\n",
    "import altair as alt\n",
    "import altair_viewer as view\n",
    "\n",
    "alt.data_transformers.disable_max_rows()\n",
    "\n",
    "# Load the data from the CSV file\n",
    "data = pd.read_csv('data/master_dataset.csv')\n",
    "\n",
    "# Filter out movies with budgets less than $10,000\n",
    "data = data[data['budget'] >= 10000]\n",
    "\n",
    "data = data.query('budget > 0')\n",
    "data = data.query('RT_expert_rating > 0')\n",
    "# Create the line chart\n",
    "chart = alt.Chart(data).mark_point().encode(\n",
    "    x='budget',\n",
    "    y='RT_expert_rating',\n",
    "    tooltip=['budget', 'RT_expert_rating']\n",
    ").properties(\n",
    "    title='Movie Budget vs Expert Ratings',\n",
    "    width=800,\n",
    "    height=400\n",
    ").interactive()\n",
    "\n",
    "# Display the chart\n",
    "view.display(chart)\n"
   ]
  },
  {
   "cell_type": "code",
   "execution_count": 6,
   "id": "ae585e6b",
   "metadata": {},
   "outputs": [
    {
     "data": {
      "text/html": [
       "Displaying chart at <a href='http://localhost:64594/' target='_blank'>http://localhost:64594/</a>"
      ],
      "text/plain": [
       "Displaying chart at http://localhost:64594/"
      ]
     },
     "execution_count": 6,
     "metadata": {},
     "output_type": "execute_result"
    }
   ],
   "source": [
    "'''\n",
    "Plot Movie Budget vs User Ratings\n",
    "'''\n",
    "\n",
    "import pandas as pd\n",
    "import altair as alt\n",
    "import altair_viewer as view\n",
    "\n",
    "alt.data_transformers.disable_max_rows()\n",
    "\n",
    "# Load the data from the CSV file\n",
    "data = pd.read_csv('data/master_dataset.csv')\n",
    "\n",
    "data = data[data['budget'] >= 10000]\n",
    "\n",
    "data = data.query('budget > 0')\n",
    "\n",
    "# Create the line chart\n",
    "chart = alt.Chart(data).mark_point().encode(\n",
    "    x='budget',\n",
    "    y='user_rating',\n",
    "    tooltip=['budget', 'user_rating']\n",
    ").properties(\n",
    "    title='Movie Budget vs User Ratings',\n",
    "    width=800,\n",
    "    height=400\n",
    ").interactive()\n",
    "\n",
    "# Display the chart\n",
    "view.display(chart)\n"
   ]
  },
  {
   "cell_type": "code",
   "execution_count": 11,
   "id": "7618d643",
   "metadata": {},
   "outputs": [
    {
     "name": "stdout",
     "output_type": "stream",
     "text": [
      "Displaying chart at http://localhost:64594/\n"
     ]
    }
   ],
   "source": [
    "''' \n",
    "Plot Revenue by Year\n",
    "'''\n",
    "\n",
    "import pandas as pd\n",
    "import altair as alt\n",
    "import altair_viewer as view\n",
    "\n",
    "alt.data_transformers.disable_max_rows()\n",
    "\n",
    "# load the data\n",
    "data = pd.read_csv(\"data/master_dataset.csv\")\n",
    "\n",
    "# filter data by year\n",
    "data = data.query(\"release_date >= '1930-01-01' and release_date < '2017-01-01'\")\n",
    "\n",
    "# create a bar chart showing revenue by year\n",
    "bar_chart = alt.Chart(data).mark_bar(color='green').encode(\n",
    "    x=alt.X('year(release_date):T', scale=alt.Scale(domain=(1930,2016))),\n",
    "    y='sum(revenue)',\n",
    "    tooltip=['year(release_date):T', 'sum(revenue)'],\n",
    ")\n",
    "\n",
    "# set chart properties\n",
    "bar_chart = bar_chart.properties(\n",
    "    width=800,\n",
    "    height=400,\n",
    "    title='Revenue by Year'\n",
    ")\n",
    "\n",
    "# display the chart\n",
    "bar_chart.show()\n"
   ]
  },
  {
   "cell_type": "code",
   "execution_count": 13,
   "id": "498082d9",
   "metadata": {},
   "outputs": [
    {
     "name": "stdout",
     "output_type": "stream",
     "text": [
      "Displaying chart at http://localhost:64594/\n"
     ]
    },
    {
     "ename": "KeyboardInterrupt",
     "evalue": "",
     "output_type": "error",
     "traceback": [
      "\u001b[1;31m---------------------------------------------------------------------------\u001b[0m",
      "\u001b[1;31mKeyboardInterrupt\u001b[0m                         Traceback (most recent call last)",
      "\u001b[1;32mc:\\Users\\natha\\Documents\\Reel_Data\\ReelData\\graphing_notebook.ipynb Cell 5\u001b[0m in \u001b[0;36m3\n\u001b[0;32m     <a href='vscode-notebook-cell:/c%3A/Users/natha/Documents/Reel_Data/ReelData/graphing_notebook.ipynb#W4sZmlsZQ%3D%3D?line=18'>19</a>\u001b[0m scatter_plot \u001b[39m=\u001b[39m alt\u001b[39m.\u001b[39mChart(data)\u001b[39m.\u001b[39mmark_point()\u001b[39m.\u001b[39mencode(\n\u001b[0;32m     <a href='vscode-notebook-cell:/c%3A/Users/natha/Documents/Reel_Data/ReelData/graphing_notebook.ipynb#W4sZmlsZQ%3D%3D?line=19'>20</a>\u001b[0m     x\u001b[39m=\u001b[39m\u001b[39m'\u001b[39m\u001b[39muser_rating:Q\u001b[39m\u001b[39m'\u001b[39m,\n\u001b[0;32m     <a href='vscode-notebook-cell:/c%3A/Users/natha/Documents/Reel_Data/ReelData/graphing_notebook.ipynb#W4sZmlsZQ%3D%3D?line=20'>21</a>\u001b[0m     y\u001b[39m=\u001b[39m\u001b[39m'\u001b[39m\u001b[39mRT_expert_rating:Q\u001b[39m\u001b[39m'\u001b[39m,\n\u001b[1;32m   (...)\u001b[0m\n\u001b[0;32m     <a href='vscode-notebook-cell:/c%3A/Users/natha/Documents/Reel_Data/ReelData/graphing_notebook.ipynb#W4sZmlsZQ%3D%3D?line=25'>26</a>\u001b[0m     title\u001b[39m=\u001b[39m\u001b[39m'\u001b[39m\u001b[39mUser Rating vs Expert Rating\u001b[39m\u001b[39m'\u001b[39m\n\u001b[0;32m     <a href='vscode-notebook-cell:/c%3A/Users/natha/Documents/Reel_Data/ReelData/graphing_notebook.ipynb#W4sZmlsZQ%3D%3D?line=26'>27</a>\u001b[0m )\n\u001b[0;32m     <a href='vscode-notebook-cell:/c%3A/Users/natha/Documents/Reel_Data/ReelData/graphing_notebook.ipynb#W4sZmlsZQ%3D%3D?line=28'>29</a>\u001b[0m \u001b[39m# Display the chart\u001b[39;00m\n\u001b[1;32m---> <a href='vscode-notebook-cell:/c%3A/Users/natha/Documents/Reel_Data/ReelData/graphing_notebook.ipynb#W4sZmlsZQ%3D%3D?line=29'>30</a>\u001b[0m scatter_plot\u001b[39m.\u001b[39mshow()\n",
      "File \u001b[1;32mc:\\Users\\natha\\anaconda3\\envs\\cse163\\lib\\site-packages\\altair\\vegalite\\v4\\api.py:1795\u001b[0m, in \u001b[0;36mTopLevelMixin.show\u001b[1;34m(self, embed_opt, open_browser)\u001b[0m\n\u001b[0;32m   1790\u001b[0m \u001b[39mexcept\u001b[39;00m \u001b[39mImportError\u001b[39;00m:\n\u001b[0;32m   1791\u001b[0m     \u001b[39mraise\u001b[39;00m \u001b[39mValueError\u001b[39;00m(\n\u001b[0;32m   1792\u001b[0m         \u001b[39m\"\u001b[39m\u001b[39mshow() method requires the altair_viewer package. \u001b[39m\u001b[39m\"\u001b[39m\n\u001b[0;32m   1793\u001b[0m         \u001b[39m\"\u001b[39m\u001b[39mSee http://github.com/altair-viz/altair_viewer\u001b[39m\u001b[39m\"\u001b[39m\n\u001b[0;32m   1794\u001b[0m     )\n\u001b[1;32m-> 1795\u001b[0m altair_viewer\u001b[39m.\u001b[39;49mshow(\u001b[39mself\u001b[39;49m, embed_opt\u001b[39m=\u001b[39;49membed_opt, open_browser\u001b[39m=\u001b[39;49mopen_browser)\n",
      "File \u001b[1;32mc:\\Users\\natha\\anaconda3\\envs\\cse163\\lib\\site-packages\\altair_viewer\\_viewer.py:358\u001b[0m, in \u001b[0;36mChartViewer.show\u001b[1;34m(self, chart, embed_opt, open_browser)\u001b[0m\n\u001b[0;32m    356\u001b[0m \u001b[39mprint\u001b[39m(msg)\n\u001b[0;32m    357\u001b[0m \u001b[39mif\u001b[39;00m \u001b[39mself\u001b[39m\u001b[39m.\u001b[39m_provider \u001b[39mis\u001b[39;00m \u001b[39mnot\u001b[39;00m \u001b[39mNone\u001b[39;00m:\n\u001b[1;32m--> 358\u001b[0m     \u001b[39mself\u001b[39;49m\u001b[39m.\u001b[39;49m_provider\u001b[39m.\u001b[39;49m_disconnect_event\u001b[39m.\u001b[39;49mwait()\n",
      "File \u001b[1;32mc:\\Users\\natha\\anaconda3\\envs\\cse163\\lib\\threading.py:581\u001b[0m, in \u001b[0;36mEvent.wait\u001b[1;34m(self, timeout)\u001b[0m\n\u001b[0;32m    579\u001b[0m signaled \u001b[39m=\u001b[39m \u001b[39mself\u001b[39m\u001b[39m.\u001b[39m_flag\n\u001b[0;32m    580\u001b[0m \u001b[39mif\u001b[39;00m \u001b[39mnot\u001b[39;00m signaled:\n\u001b[1;32m--> 581\u001b[0m     signaled \u001b[39m=\u001b[39m \u001b[39mself\u001b[39;49m\u001b[39m.\u001b[39;49m_cond\u001b[39m.\u001b[39;49mwait(timeout)\n\u001b[0;32m    582\u001b[0m \u001b[39mreturn\u001b[39;00m signaled\n",
      "File \u001b[1;32mc:\\Users\\natha\\anaconda3\\envs\\cse163\\lib\\threading.py:312\u001b[0m, in \u001b[0;36mCondition.wait\u001b[1;34m(self, timeout)\u001b[0m\n\u001b[0;32m    310\u001b[0m \u001b[39mtry\u001b[39;00m:    \u001b[39m# restore state no matter what (e.g., KeyboardInterrupt)\u001b[39;00m\n\u001b[0;32m    311\u001b[0m     \u001b[39mif\u001b[39;00m timeout \u001b[39mis\u001b[39;00m \u001b[39mNone\u001b[39;00m:\n\u001b[1;32m--> 312\u001b[0m         waiter\u001b[39m.\u001b[39;49macquire()\n\u001b[0;32m    313\u001b[0m         gotit \u001b[39m=\u001b[39m \u001b[39mTrue\u001b[39;00m\n\u001b[0;32m    314\u001b[0m     \u001b[39melse\u001b[39;00m:\n",
      "\u001b[1;31mKeyboardInterrupt\u001b[0m: "
     ]
    }
   ],
   "source": [
    "''' \n",
    "Plot User Rating vs Expert Rating\n",
    "difference on y and avg rating\n",
    "'''\n",
    "\n",
    "import pandas as pd\n",
    "import altair as alt\n",
    "import altair_viewer as view\n",
    "\n",
    "alt.data_transformers.disable_max_rows()\n",
    "\n",
    "# load the data\n",
    "data = pd.read_csv(\"data/master_dataset.csv\")\n",
    "\n",
    "# filter out rows where RT_expert_rating is 0\n",
    "data = data[data['RT_expert_rating'] != 0]\n",
    "\n",
    "# create a scatter plot showing the relationship between user rating and expert rating\n",
    "scatter_plot = alt.Chart(data).mark_point().encode(\n",
    "    x='user_rating:Q',\n",
    "    y='RT_expert_rating:Q',\n",
    "    tooltip=['user_rating', 'RT_expert_rating']\n",
    ").properties(\n",
    "    width=800,\n",
    "    height=400,\n",
    "    title='User Rating vs Expert Rating'\n",
    ")\n",
    "\n",
    "# Display the chart\n",
    "scatter_plot.show()\n"
   ]
  },
  {
   "cell_type": "code",
   "execution_count": 2,
   "id": "33e2b378",
   "metadata": {},
   "outputs": [
    {
     "name": "stdout",
     "output_type": "stream",
     "text": [
      "Top 5 production companies based on total revenue:\n",
      "production_companies\n",
      "Warner Bros.                              6.754320e+10\n",
      "Universal Pictures                        6.194357e+10\n",
      "Paramount Pictures                        5.414377e+10\n",
      "Twentieth Century Fox Film Corporation    5.376612e+10\n",
      "Walt Disney Pictures                      5.266523e+10\n",
      "Columbia Pictures                         3.551452e+10\n",
      "New Line Cinema                           2.302646e+10\n",
      "Amblin Entertainment                      1.752602e+10\n",
      "DreamWorks SKG                            1.636693e+10\n",
      "Dune Entertainment                        1.620930e+10\n",
      "Name: revenue, dtype: float64\n"
     ]
    }
   ],
   "source": [
    "'''\n",
    "Production Companies vs Revenue\n",
    "Filter to get the top 5 most popular production companies (based on how many movies they have released) \n",
    "filter out companies who have made less than 10 movies and take the bottom 5 after that and compare the 10 companies\n",
    "Use a scatter plot that has different colors for each company and use the circle size to show amount of movies released by that company \n",
    "'''\n",
    "\n",
    "import pandas as pd\n",
    "import altair as alt\n",
    "import altair_viewer as view\n",
    "\n",
    "# Load the data from the CSV file\n",
    "data = pd.read_csv('data/master_dataset.csv')\n",
    "\n",
    "# Extract the name of each production company from the dictionary and explode the column\n",
    "data['production_companies'] = data['production_companies'].apply(lambda x: [company['name'] for company in eval(x) if 'name' in company] if not pd.isna(x) else [])\n",
    "data = data.explode('production_companies')\n",
    "\n",
    "# Filter to get the top 5 and bottom 5 production companies based on total revenue\n",
    "top_producers = data.groupby('production_companies')['revenue'].sum().sort_values(ascending=False).head(10).index.tolist()\n",
    "\n",
    "data = data[data['production_companies'].isin(top_producers)]\n",
    "\n",
    "# Create a chart for all selected production companies\n",
    "chart = alt.Chart(data).mark_bar().encode(\n",
    "    x=alt.X('production_companies:N', sort='-y', axis=alt.Axis(labelAngle=45)),\n",
    "    y=alt.Y('sum(revenue):Q', axis=alt.Axis(title='Total Revenue')),\n",
    "    color=alt.Color('production_companies:N', scale=alt.Scale(scheme='dark2'), legend=None),\n",
    "    tooltip=['production_companies:N', 'sum(revenue):Q']\n",
    ").properties(\n",
    "    title='Top 10 Production Companies vs Total Revenue',\n",
    "    width=800,\n",
    "    height=400\n",
    ").interactive()\n",
    "\n",
    "# Display the chart\n",
    "view.display(chart)\n",
    "\n",
    "\n",
    "# Print the top 5 production companies based on total revenue\n",
    "print(\"Top 5 production companies based on total revenue:\")\n",
    "print(data.groupby('production_companies')['revenue'].sum().sort_values(ascending=False).head(10))\n",
    "\n",
    "\n",
    "\n",
    "\n"
   ]
  },
  {
   "cell_type": "code",
   "execution_count": 1,
   "id": "14777849",
   "metadata": {},
   "outputs": [
    {
     "data": {
      "text/plain": [
       "' \\nGenre vs Rating\\n\\n'"
      ]
     },
     "execution_count": 1,
     "metadata": {},
     "output_type": "execute_result"
    }
   ],
   "source": [
    "''' \n",
    "Genre vs Rating\n",
    "Either use a pie chart or stacked bar chart showing the different genres and what the avg rating was for each\n",
    "'''\n"
   ]
  },
  {
   "cell_type": "code",
   "execution_count": 14,
   "id": "06239edb",
   "metadata": {},
   "outputs": [
    {
     "ename": "KeyError",
     "evalue": "['genres']",
     "output_type": "error",
     "traceback": [
      "\u001b[1;31m---------------------------------------------------------------------------\u001b[0m",
      "\u001b[1;31mKeyError\u001b[0m                                  Traceback (most recent call last)",
      "\u001b[1;32mc:\\Users\\natha\\Documents\\Reel_Data\\ReelData\\graphing_notebook.ipynb Cell 8\u001b[0m in \u001b[0;36m1\n\u001b[0;32m     <a href='vscode-notebook-cell:/c%3A/Users/natha/Documents/Reel_Data/ReelData/graphing_notebook.ipynb#X10sZmlsZQ%3D%3D?line=14'>15</a>\u001b[0m \u001b[39m# filter out movies with zero revenue and missing genres\u001b[39;00m\n\u001b[0;32m     <a href='vscode-notebook-cell:/c%3A/Users/natha/Documents/Reel_Data/ReelData/graphing_notebook.ipynb#X10sZmlsZQ%3D%3D?line=15'>16</a>\u001b[0m data \u001b[39m=\u001b[39m data\u001b[39m.\u001b[39mquery(\u001b[39m'\u001b[39m\u001b[39mrevenue > 0\u001b[39m\u001b[39m'\u001b[39m)\n\u001b[1;32m---> <a href='vscode-notebook-cell:/c%3A/Users/natha/Documents/Reel_Data/ReelData/graphing_notebook.ipynb#X10sZmlsZQ%3D%3D?line=16'>17</a>\u001b[0m data \u001b[39m=\u001b[39m data\u001b[39m.\u001b[39mdropna(subset\u001b[39m=\u001b[39m[\u001b[39m'\u001b[39m\u001b[39mgenres\u001b[39m\u001b[39m'\u001b[39m])\n\u001b[0;32m     <a href='vscode-notebook-cell:/c%3A/Users/natha/Documents/Reel_Data/ReelData/graphing_notebook.ipynb#X10sZmlsZQ%3D%3D?line=18'>19</a>\u001b[0m \u001b[39m# explode the genres column to make a row for each genre in a movie\u001b[39;00m\n\u001b[0;32m     <a href='vscode-notebook-cell:/c%3A/Users/natha/Documents/Reel_Data/ReelData/graphing_notebook.ipynb#X10sZmlsZQ%3D%3D?line=19'>20</a>\u001b[0m data \u001b[39m=\u001b[39m data\u001b[39m.\u001b[39massign(genres\u001b[39m=\u001b[39mdata[\u001b[39m'\u001b[39m\u001b[39mgenres\u001b[39m\u001b[39m'\u001b[39m]\u001b[39m.\u001b[39mstr\u001b[39m.\u001b[39msplit(\u001b[39m'\u001b[39m\u001b[39m,\u001b[39m\u001b[39m'\u001b[39m))\u001b[39m.\u001b[39mexplode(\u001b[39m'\u001b[39m\u001b[39mgenres\u001b[39m\u001b[39m'\u001b[39m)\n",
      "File \u001b[1;32mc:\\Users\\natha\\anaconda3\\envs\\cse163\\lib\\site-packages\\pandas\\util\\_decorators.py:317\u001b[0m, in \u001b[0;36mdeprecate_nonkeyword_arguments.<locals>.decorate.<locals>.wrapper\u001b[1;34m(*args, **kwargs)\u001b[0m\n\u001b[0;32m    311\u001b[0m \u001b[39mif\u001b[39;00m \u001b[39mlen\u001b[39m(args) \u001b[39m>\u001b[39m num_allow_args:\n\u001b[0;32m    312\u001b[0m     warnings\u001b[39m.\u001b[39mwarn(\n\u001b[0;32m    313\u001b[0m         msg\u001b[39m.\u001b[39mformat(arguments\u001b[39m=\u001b[39marguments),\n\u001b[0;32m    314\u001b[0m         \u001b[39mFutureWarning\u001b[39;00m,\n\u001b[0;32m    315\u001b[0m         stacklevel\u001b[39m=\u001b[39mfind_stack_level(inspect\u001b[39m.\u001b[39mcurrentframe()),\n\u001b[0;32m    316\u001b[0m     )\n\u001b[1;32m--> 317\u001b[0m \u001b[39mreturn\u001b[39;00m func(\u001b[39m*\u001b[39margs, \u001b[39m*\u001b[39m\u001b[39m*\u001b[39mkwargs)\n",
      "File \u001b[1;32mc:\\Users\\natha\\anaconda3\\envs\\cse163\\lib\\site-packages\\pandas\\core\\frame.py:6553\u001b[0m, in \u001b[0;36mDataFrame.dropna\u001b[1;34m(self, axis, how, thresh, subset, inplace)\u001b[0m\n\u001b[0;32m   6551\u001b[0m     check \u001b[39m=\u001b[39m indices \u001b[39m==\u001b[39m \u001b[39m-\u001b[39m\u001b[39m1\u001b[39m\n\u001b[0;32m   6552\u001b[0m     \u001b[39mif\u001b[39;00m check\u001b[39m.\u001b[39many():\n\u001b[1;32m-> 6553\u001b[0m         \u001b[39mraise\u001b[39;00m \u001b[39mKeyError\u001b[39;00m(np\u001b[39m.\u001b[39marray(subset)[check]\u001b[39m.\u001b[39mtolist())\n\u001b[0;32m   6554\u001b[0m     agg_obj \u001b[39m=\u001b[39m \u001b[39mself\u001b[39m\u001b[39m.\u001b[39mtake(indices, axis\u001b[39m=\u001b[39magg_axis)\n\u001b[0;32m   6556\u001b[0m \u001b[39mif\u001b[39;00m thresh \u001b[39mis\u001b[39;00m \u001b[39mnot\u001b[39;00m no_default:\n",
      "\u001b[1;31mKeyError\u001b[0m: ['genres']"
     ]
    }
   ],
   "source": [
    "''' \n",
    "Genre vs Revenue\n",
    "Use simiar graph as the genre vs rating but use avg revenue as the scale\n",
    "'''\n",
    "\n",
    "import pandas as pd\n",
    "import altair as alt\n",
    "import altair_viewer as view\n",
    "\n",
    "alt.data_transformers.disable_max_rows()\n",
    "\n",
    "# load the data\n",
    "data = pd.read_csv(\"data/master_dataset.csv\")\n",
    "\n",
    "# filter out movies with zero revenue and missing genres\n",
    "data = data.query('revenue > 0')\n",
    "data = data.dropna(subset=['genres'])\n",
    "\n",
    "# explode the genres column to make a row for each genre in a movie\n",
    "data = data.assign(genres=data['genres'].str.split(',')).explode('genres')\n",
    "\n",
    "# calculate the total revenue for each genre\n",
    "genre_revenue = data.groupby('genres')['revenue'].sum().reset_index()\n",
    "\n",
    "# create the stacked bar chart showing revenue by genre\n",
    "chart = alt.Chart(genre_revenue).mark_bar().encode(\n",
    "    x=alt.X('genres:N', sort='-y'),\n",
    "    y='revenue:Q',\n",
    "    color=alt.Color('genres:N', scale=alt.Scale(scheme='category20'), legend=None),\n",
    "    tooltip=['genres:N', 'revenue:Q']\n",
    ").properties(\n",
    "    title='Genre vs Revenue',\n",
    "    width=800,\n",
    "    height=400\n",
    ").interactive()\n",
    "\n",
    "# display the chart\n",
    "view.display(chart)\n"
   ]
  },
  {
   "cell_type": "code",
   "execution_count": null,
   "id": "e78e3c28",
   "metadata": {},
   "outputs": [],
   "source": [
    "''' \n",
    "Production Companies vs \n",
    "'''"
   ]
  }
 ],
 "metadata": {
  "kernelspec": {
   "display_name": "Python 3.9.16 ('base')",
   "language": "python",
   "name": "python3"
  },
  "language_info": {
   "codemirror_mode": {
    "name": "ipython",
    "version": 3
   },
   "file_extension": ".py",
   "mimetype": "text/x-python",
   "name": "python",
   "nbconvert_exporter": "python",
   "pygments_lexer": "ipython3",
   "version": "3.9.13"
  },
  "vscode": {
   "interpreter": {
    "hash": "a141964305fc60b9d76438b9574b455eb2b02b4cd1c99e8f47f6addfe15d5f72"
   }
  }
 },
 "nbformat": 4,
 "nbformat_minor": 5
}
