{
 "cells": [
  {
   "attachments": {},
   "cell_type": "markdown",
   "id": "bcde86c3",
   "metadata": {},
   "source": [
    "Can we use this as inspiration for some graphs?  \n",
    "[Example Notebook](https://www.kaggle.com/code/gnk980/night-in-let-s-watch-a-movie)"
   ]
  },
  {
   "cell_type": "code",
   "execution_count": 6,
   "id": "baa0a2ee",
   "metadata": {},
   "outputs": [
    {
     "data": {
      "text/html": [
       "Displaying chart at <a href='http://localhost:54125/' target='_blank'>http://localhost:54125/</a>"
      ],
      "text/plain": [
       "Displaying chart at http://localhost:54125/"
      ]
     },
     "execution_count": 6,
     "metadata": {},
     "output_type": "execute_result"
    }
   ],
   "source": [
    "'''\n",
    "Plot Movie Budget vs Expert Ratings\n",
    "'''\n",
    "import pandas as pd\n",
    "import altair as alt\n",
    "import altair_viewer as view\n",
    "\n",
    "alt.data_transformers.disable_max_rows()\n",
    "\n",
    "# Load the data from the CSV file\n",
    "data = pd.read_csv('data/master_dataset.csv')\n",
    "\n",
    "data = data.query('budget > 0')\n",
    "\n",
    "# Create the line chart\n",
    "chart = alt.Chart(data).mark_point().encode(\n",
    "    x='budget',\n",
    "    y='expert_rating',\n",
    "    tooltip=['budget', 'expert_rating']\n",
    ").properties(\n",
    "    title='Movie Budget vs Expert Ratings',\n",
    "    width=800,\n",
    "    height=400\n",
    ").interactive()\n",
    "\n",
    "# Display the chart\n",
    "view.display(chart)\n"
   ]
  },
  {
   "cell_type": "code",
   "execution_count": 5,
   "id": "ae585e6b",
   "metadata": {},
   "outputs": [
    {
     "data": {
      "text/html": [
       "Displaying chart at <a href='http://localhost:54125/' target='_blank'>http://localhost:54125/</a>"
      ],
      "text/plain": [
       "Displaying chart at http://localhost:54125/"
      ]
     },
     "execution_count": 5,
     "metadata": {},
     "output_type": "execute_result"
    }
   ],
   "source": [
    "'''\n",
    "Plot Movie Budget vs User Ratings\n",
    "'''\n",
    "\n",
    "import pandas as pd\n",
    "import altair as alt\n",
    "import altair_viewer as view\n",
    "\n",
    "alt.data_transformers.disable_max_rows()\n",
    "\n",
    "# Load the data from the CSV file\n",
    "data = pd.read_csv('data/master_dataset.csv')\n",
    "\n",
    "data = data.query('budget > 0')\n",
    "\n",
    "# Create the line chart\n",
    "chart = alt.Chart(data).mark_point().encode(\n",
    "    x='budget',\n",
    "    y='user_rating',\n",
    "    tooltip=['budget', 'user_rating']\n",
    ").properties(\n",
    "    title='Movie Budget vs User Ratings',\n",
    "    width=800,\n",
    "    height=400\n",
    ").interactive()\n",
    "\n",
    "# Display the chart\n",
    "view.display(chart)\n"
   ]
  },
  {
   "cell_type": "code",
   "execution_count": 4,
   "id": "7618d643",
   "metadata": {},
   "outputs": [
    {
     "name": "stdout",
     "output_type": "stream",
     "text": [
      "Displaying chart at http://localhost:54125/\n"
     ]
    }
   ],
   "source": [
    "''' \n",
    "Plot Revenue by Year\n",
    "'''\n",
    "\n",
    "import pandas as pd\n",
    "import altair as alt\n",
    "import altair_viewer as view\n",
    "\n",
    "alt.data_transformers.disable_max_rows()\n",
    "\n",
    "# load the data\n",
    "data = pd.read_csv(\"data/master_dataset.csv\")\n",
    "\n",
    "# create a bar chart showing revenue by year\n",
    "bar_chart = alt.Chart(data).mark_bar().encode(\n",
    "    x=alt.X('year(release_date):T', scale=alt.Scale(domain=(1930,2023))),\n",
    "    y='sum(revenue)',\n",
    "    tooltip=['year(release_date):T', 'sum(revenue)'],\n",
    ")\n",
    "\n",
    "# set chart properties\n",
    "bar_chart = bar_chart.properties(\n",
    "    width=800,\n",
    "    height=400,\n",
    "    title='Revenue by Year'\n",
    ")\n",
    "\n",
    "# display the chart\n",
    "bar_chart.show()\n"
   ]
  },
  {
   "cell_type": "code",
   "execution_count": 3,
   "id": "498082d9",
   "metadata": {},
   "outputs": [
    {
     "name": "stdout",
     "output_type": "stream",
     "text": [
      "Displaying chart at http://localhost:54125/\n"
     ]
    }
   ],
   "source": [
    "''' \n",
    "Plot User Rating vs Expert Rating\n",
    "'''\n",
    "\n",
    "import pandas as pd\n",
    "import altair as alt\n",
    "import altair_viewer as view\n",
    "\n",
    "alt.data_transformers.disable_max_rows()\n",
    "\n",
    "# load the data\n",
    "data = pd.read_csv(\"data/master_dataset.csv\")\n",
    "\n",
    "# create a scatter plot showing the relationship between user rating and expert rating\n",
    "scatter_plot = alt.Chart(data).mark_point().encode(\n",
    "    x='user_rating:Q',\n",
    "    y='expert_rating:Q',\n",
    "    tooltip=['original_title', 'user_rating', 'expert_rating']\n",
    ").properties(\n",
    "    width=800,\n",
    "    height=400,\n",
    "    title='User Rating vs Expert Rating'\n",
    ")\n",
    "\n",
    "# Display the chart\n",
    "scatter_plot.show()\n"
   ]
  },
  {
   "cell_type": "code",
   "execution_count": null,
   "id": "33e2b378",
   "metadata": {},
   "outputs": [],
   "source": [
    "'''\n",
    "Production Companies vs Revenue\n",
    "Filter to get the top 5 most popular production companies (based on how many movies they have released) \n",
    "filter out companies who have made less than 10 movies and take the bottom 5 after that and compare the 10 companies\n",
    "Use a scatter plot that has different colors for each company and use the circle size to show amount of movies released by that company \n",
    "'''\n"
   ]
  },
  {
   "cell_type": "code",
   "execution_count": 1,
   "id": "14777849",
   "metadata": {},
   "outputs": [
    {
     "data": {
      "text/plain": [
       "' \\nGenre vs Rating\\n\\n'"
      ]
     },
     "execution_count": 1,
     "metadata": {},
     "output_type": "execute_result"
    }
   ],
   "source": [
    "''' \n",
    "Genre vs Rating\n",
    "Either use a pie chart or stacked bar chart showing the different genres and what the avg rating was for each\n",
    "'''\n"
   ]
  },
  {
   "cell_type": "code",
   "execution_count": null,
   "id": "06239edb",
   "metadata": {},
   "outputs": [],
   "source": [
    "''' \n",
    "Genre vs Revenue\n",
    "Use simiar graph as the genre vs rating but use avg revenue as the scale\n",
    "'''"
   ]
  },
  {
   "cell_type": "code",
   "execution_count": null,
   "id": "e78e3c28",
   "metadata": {},
   "outputs": [],
   "source": [
    "''' \n",
    "Production Companies vs \n",
    "'''"
   ]
  }
 ],
 "metadata": {
  "kernelspec": {
   "display_name": "Python 3.9.16 ('base')",
   "language": "python",
   "name": "python3"
  },
  "language_info": {
   "codemirror_mode": {
    "name": "ipython",
    "version": 3
   },
   "file_extension": ".py",
   "mimetype": "text/x-python",
   "name": "python",
   "nbconvert_exporter": "python",
   "pygments_lexer": "ipython3",
   "version": "3.9.16"
  },
  "vscode": {
   "interpreter": {
    "hash": "a141964305fc60b9d76438b9574b455eb2b02b4cd1c99e8f47f6addfe15d5f72"
   }
  }
 },
 "nbformat": 4,
 "nbformat_minor": 5
}
