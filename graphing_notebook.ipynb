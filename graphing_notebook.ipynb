{
 "cells": [
  {
   "attachments": {},
   "cell_type": "markdown",
   "id": "bcde86c3",
   "metadata": {},
   "source": [
    "Can we use this as inspiration for some graphs?  \n",
    "[Example Notebook](https://www.kaggle.com/code/gnk980/night-in-let-s-watch-a-movie)"
   ]
  },
  {
   "cell_type": "code",
   "execution_count": 14,
   "id": "baa0a2ee",
   "metadata": {},
   "outputs": [
    {
     "data": {
      "text/html": [
       "Displaying chart at <a href='http://localhost:61064/' target='_blank'>http://localhost:61064/</a>"
      ],
      "text/plain": [
       "Displaying chart at http://localhost:61064/"
      ]
     },
     "execution_count": 14,
     "metadata": {},
     "output_type": "execute_result"
    }
   ],
   "source": [
    "'''\n",
    "Plot Movie Budget vs Expert Ratings\n",
    "'''\n",
    "import pandas as pd\n",
    "import altair as alt\n",
    "import altair_viewer as view\n",
    "\n",
    "alt.data_transformers.disable_max_rows()\n",
    "\n",
    "# Load the data from the CSV file\n",
    "data = pd.read_csv('data/master_dataset.csv')\n",
    "\n",
    "data = data.query('budget > 0')\n",
    "data = data.query('RT_expert_rating > 0')\n",
    "# Create the line chart\n",
    "chart = alt.Chart(data).mark_point().encode(\n",
    "    x='budget',\n",
    "    y='RT_expert_rating',\n",
    "    tooltip=['budget', 'RT_expert_rating']\n",
    ").properties(\n",
    "    title='Movie Budget vs Expert Ratings',\n",
    "    width=800,\n",
    "    height=400\n",
    ").interactive()\n",
    "\n",
    "# Display the chart\n",
    "view.display(chart)\n"
   ]
  },
  {
   "cell_type": "code",
   "execution_count": 15,
   "id": "ae585e6b",
   "metadata": {},
   "outputs": [
    {
     "data": {
      "text/html": [
       "Displaying chart at <a href='http://localhost:61064/' target='_blank'>http://localhost:61064/</a>"
      ],
      "text/plain": [
       "Displaying chart at http://localhost:61064/"
      ]
     },
     "execution_count": 15,
     "metadata": {},
     "output_type": "execute_result"
    }
   ],
   "source": [
    "'''\n",
    "Plot Movie Budget vs User Ratings\n",
    "'''\n",
    "\n",
    "import pandas as pd\n",
    "import altair as alt\n",
    "import altair_viewer as view\n",
    "\n",
    "alt.data_transformers.disable_max_rows()\n",
    "\n",
    "# Load the data from the CSV file\n",
    "data = pd.read_csv('data/master_dataset.csv')\n",
    "\n",
    "data = data.query('budget > 0')\n",
    "\n",
    "# Create the line chart\n",
    "chart = alt.Chart(data).mark_point().encode(\n",
    "    x='budget',\n",
    "    y='user_rating',\n",
    "    tooltip=['budget', 'user_rating']\n",
    ").properties(\n",
    "    title='Movie Budget vs User Ratings',\n",
    "    width=800,\n",
    "    height=400\n",
    ").interactive()\n",
    "\n",
    "# Display the chart\n",
    "view.display(chart)\n"
   ]
  },
  {
   "cell_type": "code",
   "execution_count": 39,
   "id": "7618d643",
   "metadata": {},
   "outputs": [
    {
     "name": "stdout",
     "output_type": "stream",
     "text": [
      "Displaying chart at http://localhost:61064/\n"
     ]
    }
   ],
   "source": [
    "''' \n",
    "Plot Revenue by Year\n",
    "'''\n",
    "\n",
    "import pandas as pd\n",
    "import altair as alt\n",
    "import altair_viewer as view\n",
    "\n",
    "alt.data_transformers.disable_max_rows()\n",
    "\n",
    "# load the data\n",
    "data = pd.read_csv(\"data/master_dataset.csv\")\n",
    "\n",
    "# create a bar chart showing revenue by year\n",
    "bar_chart = alt.Chart(data).mark_bar().encode(\n",
    "    x=alt.X('year(release_date):T', scale=alt.Scale(domain=(1930,2023))),\n",
    "    y='sum(revenue)',\n",
    "    tooltip=['year(release_date):T', 'sum(revenue)'],\n",
    ")\n",
    "\n",
    "# set chart properties\n",
    "bar_chart = bar_chart.properties(\n",
    "    width=800,\n",
    "    height=400,\n",
    "    title='Revenue by Year'\n",
    ")\n",
    "\n",
    "# display the chart\n",
    "bar_chart.show()\n"
   ]
  },
  {
   "cell_type": "code",
   "execution_count": 68,
   "id": "498082d9",
   "metadata": {},
   "outputs": [
    {
     "name": "stdout",
     "output_type": "stream",
     "text": [
      "Displaying chart at http://localhost:61064/\n"
     ]
    }
   ],
   "source": [
    "''' \n",
    "Plot User Rating vs Expert Rating\n",
    "'''\n",
    "\n",
    "import pandas as pd\n",
    "import altair as alt\n",
    "import altair_viewer as view\n",
    "\n",
    "alt.data_transformers.disable_max_rows()\n",
    "\n",
    "# load the data\n",
    "data = pd.read_csv(\"data/master_dataset.csv\")\n",
    "\n",
    "# create a scatter plot showing the relationship between user rating and expert rating\n",
    "scatter_plot = alt.Chart(data).mark_point().encode(\n",
    "    x='user_rating:Q',\n",
    "    y='RT_expert_rating:Q',\n",
    "    tooltip=['user_rating', 'RT_expert_rating']\n",
    ").properties(\n",
    "    width=800,\n",
    "    height=400,\n",
    "    title='User Rating vs Expert Rating'\n",
    ")\n",
    "\n",
    "# Display the chart\n",
    "scatter_plot.show()\n"
   ]
  },
  {
   "cell_type": "code",
   "execution_count": 67,
   "id": "33e2b378",
   "metadata": {},
   "outputs": [
    {
     "name": "stdout",
     "output_type": "stream",
     "text": [
      "Top 5 production companies based on total revenue:\n",
      "production_companies\n",
      "Warner Bros.                              6.754320e+10\n",
      "Universal Pictures                        6.194357e+10\n",
      "Paramount Pictures                        5.414377e+10\n",
      "Twentieth Century Fox Film Corporation    5.376612e+10\n",
      "Walt Disney Pictures                      5.266523e+10\n",
      "Columbia Pictures                         3.551452e+10\n",
      "New Line Cinema                           2.302646e+10\n",
      "Amblin Entertainment                      1.752602e+10\n",
      "DreamWorks SKG                            1.636693e+10\n",
      "Dune Entertainment                        1.620930e+10\n",
      "Name: revenue, dtype: float64\n"
     ]
    }
   ],
   "source": [
    "'''\n",
    "Production Companies vs Revenue\n",
    "Filter to get the top 5 most popular production companies (based on how many movies they have released) \n",
    "filter out companies who have made less than 10 movies and take the bottom 5 after that and compare the 10 companies\n",
    "Use a scatter plot that has different colors for each company and use the circle size to show amount of movies released by that company \n",
    "'''\n",
    "\n",
    "import pandas as pd\n",
    "import altair as alt\n",
    "import altair_viewer as view\n",
    "\n",
    "# Load the data from the CSV file\n",
    "data = pd.read_csv('data/master_dataset.csv')\n",
    "\n",
    "# Extract the name of each production company from the dictionary and explode the column\n",
    "data['production_companies'] = data['production_companies'].apply(lambda x: [company['name'] for company in eval(x) if 'name' in company] if not pd.isna(x) else [])\n",
    "data = data.explode('production_companies')\n",
    "\n",
    "# Filter to get the top 5 and bottom 5 production companies based on total revenue\n",
    "top_producers = data.groupby('production_companies')['revenue'].sum().sort_values(ascending=False).head(10).index.tolist()\n",
    "\n",
    "data = data[data['production_companies'].isin(top_producers)]\n",
    "\n",
    "# Create a chart for all selected production companies\n",
    "chart = alt.Chart(data).mark_bar().encode(\n",
    "    x=alt.X('production_companies:N', sort='-y', axis=alt.Axis(labelAngle=45)),\n",
    "    y=alt.Y('sum(revenue):Q', axis=alt.Axis(title='Total Revenue')),\n",
    "    color=alt.Color('production_companies:N', scale=alt.Scale(scheme='dark2'), legend=None),\n",
    "    tooltip=['production_companies:N', 'sum(revenue):Q']\n",
    ").properties(\n",
    "    title='Top 10 Production Companies vs Total Revenue',\n",
    "    width=800,\n",
    "    height=400\n",
    ").interactive()\n",
    "\n",
    "# Display the chart\n",
    "view.display(chart)\n",
    "\n",
    "\n",
    "# Print the top 5 production companies based on total revenue\n",
    "print(\"Top 5 production companies based on total revenue:\")\n",
    "print(data.groupby('production_companies')['revenue'].sum().sort_values(ascending=False).head(10))\n",
    "\n",
    "\n",
    "\n",
    "\n"
   ]
  },
  {
   "cell_type": "code",
   "execution_count": 1,
   "id": "14777849",
   "metadata": {},
   "outputs": [
    {
     "data": {
      "text/plain": [
       "' \\nGenre vs Rating\\n\\n'"
      ]
     },
     "execution_count": 1,
     "metadata": {},
     "output_type": "execute_result"
    }
   ],
   "source": [
    "''' \n",
    "Genre vs Rating\n",
    "Either use a pie chart or stacked bar chart showing the different genres and what the avg rating was for each\n",
    "'''\n"
   ]
  },
  {
   "cell_type": "code",
   "execution_count": null,
   "id": "06239edb",
   "metadata": {},
   "outputs": [],
   "source": [
    "''' \n",
    "Genre vs Revenue\n",
    "Use simiar graph as the genre vs rating but use avg revenue as the scale\n",
    "'''"
   ]
  },
  {
   "cell_type": "code",
   "execution_count": null,
   "id": "e78e3c28",
   "metadata": {},
   "outputs": [],
   "source": [
    "''' \n",
    "Production Companies vs \n",
    "'''"
   ]
  }
 ],
 "metadata": {
  "kernelspec": {
   "display_name": "Python 3.9.16 ('base')",
   "language": "python",
   "name": "python3"
  },
  "language_info": {
   "codemirror_mode": {
    "name": "ipython",
    "version": 3
   },
   "file_extension": ".py",
   "mimetype": "text/x-python",
   "name": "python",
   "nbconvert_exporter": "python",
   "pygments_lexer": "ipython3",
   "version": "3.9.13"
  },
  "vscode": {
   "interpreter": {
    "hash": "a141964305fc60b9d76438b9574b455eb2b02b4cd1c99e8f47f6addfe15d5f72"
   }
  }
 },
 "nbformat": 4,
 "nbformat_minor": 5
}
